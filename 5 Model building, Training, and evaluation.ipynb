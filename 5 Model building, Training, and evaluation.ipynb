{
 "cells": [
  {
   "cell_type": "markdown",
   "id": "e1bd5871-0640-419c-bf4c-d7cb566b4a0f",
   "metadata": {},
   "source": [
    "# Protein Kenetic Stability Prediction "
   ]
  },
  {
   "cell_type": "markdown",
   "id": "44a281c2-ef3b-499e-8084-09e491a57825",
   "metadata": {},
   "source": [
    "# Life cycle of  Project\n",
    "\n",
    "* **Understanding the Problem Statement**\n",
    "\n",
    "* **Data Collection**\n",
    "\n",
    "* **Data Checks to perform**\n",
    "\n",
    "* **Exploratory data analysis**\n",
    "\n",
    "* **Data Pre-Processing**\n",
    "\n",
    "* **Model Training**\n",
    "\n",
    "* **Cross validation**\n",
    "\n",
    "\n",
    "* ****"
   ]
  },
  {
   "cell_type": "markdown",
   "id": "cef11715-08fb-452e-8028-2c3f82a239e9",
   "metadata": {},
   "source": [
    "# 1\n",
    "## 1.1 Import Data and Required Packages\n"
   ]
  },
  {
   "cell_type": "code",
   "execution_count": 441,
   "id": "ed0c876d-934e-4a01-9670-4f669586ab00",
   "metadata": {},
   "outputs": [],
   "source": [
    "# Basic Imports\n",
    "import pandas as pd\n",
    "import numpy as np\n",
    "import seaborn as sns\n",
    "import matplotlib.pyplot as plt\n",
    "import os\n",
    "import warnings\n",
    "import sklearn\n",
    "\n",
    "# Configuration\n",
    "%matplotlib inline\n",
    "warnings.filterwarnings('ignore')\n",
    "\n",
    "# Imports for model training and validation\n",
    "from sklearn.model_selection import GridSearchCV, KFold, StratifiedKFold, train_test_split\n",
    "from sklearn.pipeline import Pipeline\n",
    "from sklearn.preprocessing import StandardScaler, MinMaxScaler\n",
    "from sklearn.neighbors import KNeighborsClassifier\n",
    "from sklearn.linear_model import LogisticRegression\n",
    "from sklearn.inspection import permutation_importance\n",
    "from sklearn.svm import SVC\n",
    "from sklearn.ensemble import RandomForestClassifier\n",
    "from sklearn.metrics import accuracy_score, confusion_matrix, roc_curve, auc\n",
    "from mlxtend.evaluate import mcnemar, mcnemar_table\n",
    "from sklearn.naive_bayes import MultinomialNB,GaussianNB \n",
    "from imblearn.over_sampling import SMOTE\n",
    "from sklearn.model_selection import LeaveOneOut\n",
    "from sklearn.decomposition import KernelPCA\n",
    "\n"
   ]
  },
  {
   "cell_type": "markdown",
   "id": "084d1941-05c1-4642-b1be-de96a836cb11",
   "metadata": {},
   "source": [
    "# 1.2 Making Datasets "
   ]
  },
  {
   "cell_type": "markdown",
   "id": "db9c826a-c8cf-4378-aa78-fb29d271e101",
   "metadata": {},
   "source": [
    "## 1.2.1 Stractural Features\n",
    "## Dataset 1"
   ]
  },
  {
   "cell_type": "code",
   "execution_count": 442,
   "id": "98b8c709-d7f6-4c7c-9c8d-e0ce49d508bf",
   "metadata": {},
   "outputs": [
    {
     "data": {
      "text/html": [
       "<div>\n",
       "<style scoped>\n",
       "    .dataframe tbody tr th:only-of-type {\n",
       "        vertical-align: middle;\n",
       "    }\n",
       "\n",
       "    .dataframe tbody tr th {\n",
       "        vertical-align: top;\n",
       "    }\n",
       "\n",
       "    .dataframe thead th {\n",
       "        text-align: right;\n",
       "    }\n",
       "</style>\n",
       "<table border=\"1\" class=\"dataframe\">\n",
       "  <thead>\n",
       "    <tr style=\"text-align: right;\">\n",
       "      <th></th>\n",
       "      <th>PDB</th>\n",
       "      <th>No. a.a.</th>\n",
       "      <th>Glycine</th>\n",
       "      <th>S.S.</th>\n",
       "      <th>Long SS</th>\n",
       "      <th>Charge</th>\n",
       "      <th>SASA</th>\n",
       "      <th>No. pos.</th>\n",
       "      <th>No. Surf. pos.</th>\n",
       "      <th>Pos. area</th>\n",
       "      <th>...</th>\n",
       "      <th>No. Surf. neg.</th>\n",
       "      <th>Neg. area</th>\n",
       "      <th>No. hyd.</th>\n",
       "      <th>No. Surf. hyd.</th>\n",
       "      <th>hyd. area</th>\n",
       "      <th>Alpha</th>\n",
       "      <th>Beta</th>\n",
       "      <th>Salt bridges</th>\n",
       "      <th>H-bonds</th>\n",
       "      <th>SDS Stable</th>\n",
       "    </tr>\n",
       "  </thead>\n",
       "  <tbody>\n",
       "    <tr>\n",
       "      <th>0</th>\n",
       "      <td>2H5C</td>\n",
       "      <td>198</td>\n",
       "      <td>32</td>\n",
       "      <td>3.0</td>\n",
       "      <td>2</td>\n",
       "      <td>8</td>\n",
       "      <td>7863.049316</td>\n",
       "      <td>14</td>\n",
       "      <td>13</td>\n",
       "      <td>1202.166504</td>\n",
       "      <td>...</td>\n",
       "      <td>4</td>\n",
       "      <td>246.944275</td>\n",
       "      <td>75</td>\n",
       "      <td>47</td>\n",
       "      <td>1929.952759</td>\n",
       "      <td>9.595960</td>\n",
       "      <td>52.525253</td>\n",
       "      <td>8</td>\n",
       "      <td>213</td>\n",
       "      <td>0</td>\n",
       "    </tr>\n",
       "    <tr>\n",
       "      <th>1</th>\n",
       "      <td>5JVI</td>\n",
       "      <td>316</td>\n",
       "      <td>36</td>\n",
       "      <td>0.0</td>\n",
       "      <td>N</td>\n",
       "      <td>-10</td>\n",
       "      <td>12592.415039</td>\n",
       "      <td>21</td>\n",
       "      <td>21</td>\n",
       "      <td>1708.759888</td>\n",
       "      <td>...</td>\n",
       "      <td>26</td>\n",
       "      <td>1090.533569</td>\n",
       "      <td>127</td>\n",
       "      <td>74</td>\n",
       "      <td>3567.560303</td>\n",
       "      <td>48.101266</td>\n",
       "      <td>17.405063</td>\n",
       "      <td>1</td>\n",
       "      <td>3</td>\n",
       "      <td>0</td>\n",
       "    </tr>\n",
       "    <tr>\n",
       "      <th>2</th>\n",
       "      <td>2V1F</td>\n",
       "      <td>153</td>\n",
       "      <td>15</td>\n",
       "      <td>0.0</td>\n",
       "      <td>N</td>\n",
       "      <td>0</td>\n",
       "      <td>8144.530273</td>\n",
       "      <td>21</td>\n",
       "      <td>21</td>\n",
       "      <td>1973.160889</td>\n",
       "      <td>...</td>\n",
       "      <td>21</td>\n",
       "      <td>1814.241211</td>\n",
       "      <td>61</td>\n",
       "      <td>49</td>\n",
       "      <td>1495.550049</td>\n",
       "      <td>87.581699</td>\n",
       "      <td>0.000000</td>\n",
       "      <td>1</td>\n",
       "      <td>1</td>\n",
       "      <td>1</td>\n",
       "    </tr>\n",
       "    <tr>\n",
       "      <th>3</th>\n",
       "      <td>1B9O</td>\n",
       "      <td>123</td>\n",
       "      <td>6</td>\n",
       "      <td>4.0</td>\n",
       "      <td>4</td>\n",
       "      <td>-8</td>\n",
       "      <td>7029.185059</td>\n",
       "      <td>13</td>\n",
       "      <td>13</td>\n",
       "      <td>1405.147583</td>\n",
       "      <td>...</td>\n",
       "      <td>21</td>\n",
       "      <td>1874.586426</td>\n",
       "      <td>46</td>\n",
       "      <td>36</td>\n",
       "      <td>1701.761353</td>\n",
       "      <td>43.089431</td>\n",
       "      <td>4.878049</td>\n",
       "      <td>6</td>\n",
       "      <td>140</td>\n",
       "      <td>1</td>\n",
       "    </tr>\n",
       "    <tr>\n",
       "      <th>4</th>\n",
       "      <td>2PWA</td>\n",
       "      <td>279</td>\n",
       "      <td>33</td>\n",
       "      <td>2.0</td>\n",
       "      <td>2</td>\n",
       "      <td>1</td>\n",
       "      <td>10385.035156</td>\n",
       "      <td>20</td>\n",
       "      <td>20</td>\n",
       "      <td>1764.792358</td>\n",
       "      <td>...</td>\n",
       "      <td>18</td>\n",
       "      <td>901.254578</td>\n",
       "      <td>107</td>\n",
       "      <td>55</td>\n",
       "      <td>2552.219971</td>\n",
       "      <td>32.258065</td>\n",
       "      <td>22.580645</td>\n",
       "      <td>1</td>\n",
       "      <td>3</td>\n",
       "      <td>0</td>\n",
       "    </tr>\n",
       "  </tbody>\n",
       "</table>\n",
       "<p>5 rows × 21 columns</p>\n",
       "</div>"
      ],
      "text/plain": [
       "    PDB  No. a.a.  Glycine  S.S. Long SS  Charge          SASA  No. pos.  \\\n",
       "0  2H5C       198       32   3.0       2       8   7863.049316        14   \n",
       "1  5JVI       316       36   0.0       N     -10  12592.415039        21   \n",
       "2  2V1F       153       15   0.0       N       0   8144.530273        21   \n",
       "3  1B9O       123        6   4.0       4      -8   7029.185059        13   \n",
       "4  2PWA       279       33   2.0       2       1  10385.035156        20   \n",
       "\n",
       "   No. Surf. pos.    Pos. area  ...  No. Surf. neg.    Neg. area  No. hyd.  \\\n",
       "0              13  1202.166504  ...               4   246.944275        75   \n",
       "1              21  1708.759888  ...              26  1090.533569       127   \n",
       "2              21  1973.160889  ...              21  1814.241211        61   \n",
       "3              13  1405.147583  ...              21  1874.586426        46   \n",
       "4              20  1764.792358  ...              18   901.254578       107   \n",
       "\n",
       "   No. Surf. hyd.    hyd. area      Alpha       Beta  Salt bridges  H-bonds  \\\n",
       "0              47  1929.952759   9.595960  52.525253             8      213   \n",
       "1              74  3567.560303  48.101266  17.405063             1        3   \n",
       "2              49  1495.550049  87.581699   0.000000             1        1   \n",
       "3              36  1701.761353  43.089431   4.878049             6      140   \n",
       "4              55  2552.219971  32.258065  22.580645             1        3   \n",
       "\n",
       "   SDS Stable  \n",
       "0           0  \n",
       "1           0  \n",
       "2           1  \n",
       "3           1  \n",
       "4           0  \n",
       "\n",
       "[5 rows x 21 columns]"
      ]
     },
     "execution_count": 442,
     "metadata": {},
     "output_type": "execute_result"
    }
   ],
   "source": [
    "data = pd.read_csv('data/labeled_data.csv')\n",
    "data.head()\n"
   ]
  },
  {
   "cell_type": "code",
   "execution_count": 443,
   "id": "499071e4",
   "metadata": {},
   "outputs": [
    {
     "data": {
      "text/plain": [
       "Index(['PDB', 'No. a.a.', 'Glycine', 'S.S.', 'Long SS', 'Charge', 'SASA',\n",
       "       'No. pos.', 'No. Surf. pos.', 'Pos. area', 'No. neg.', 'No. Surf. neg.',\n",
       "       'Neg. area', 'No. hyd.', 'No. Surf. hyd.', 'hyd. area', 'Alpha', 'Beta',\n",
       "       'Salt bridges', 'H-bonds', 'SDS Stable'],\n",
       "      dtype='object')"
      ]
     },
     "execution_count": 443,
     "metadata": {},
     "output_type": "execute_result"
    }
   ],
   "source": [
    "#check the data features name\n",
    "data.columns"
   ]
  },
  {
   "cell_type": "markdown",
   "id": "46c65506",
   "metadata": {},
   "source": [
    "# 1.2.2 Embeddings\n",
    "\n",
    "## Dataset 2 "
   ]
  },
  {
   "cell_type": "code",
   "execution_count": 453,
   "id": "3d317399",
   "metadata": {},
   "outputs": [
    {
     "data": {
      "text/html": [
       "<div>\n",
       "<style scoped>\n",
       "    .dataframe tbody tr th:only-of-type {\n",
       "        vertical-align: middle;\n",
       "    }\n",
       "\n",
       "    .dataframe tbody tr th {\n",
       "        vertical-align: top;\n",
       "    }\n",
       "\n",
       "    .dataframe thead th {\n",
       "        text-align: right;\n",
       "    }\n",
       "</style>\n",
       "<table border=\"1\" class=\"dataframe\">\n",
       "  <thead>\n",
       "    <tr style=\"text-align: right;\">\n",
       "      <th></th>\n",
       "      <th>0</th>\n",
       "      <th>1</th>\n",
       "      <th>2</th>\n",
       "      <th>3</th>\n",
       "      <th>4</th>\n",
       "      <th>5</th>\n",
       "      <th>6</th>\n",
       "      <th>7</th>\n",
       "      <th>8</th>\n",
       "      <th>9</th>\n",
       "      <th>...</th>\n",
       "      <th>2550</th>\n",
       "      <th>2551</th>\n",
       "      <th>2552</th>\n",
       "      <th>2553</th>\n",
       "      <th>2554</th>\n",
       "      <th>2555</th>\n",
       "      <th>2556</th>\n",
       "      <th>2557</th>\n",
       "      <th>2558</th>\n",
       "      <th>2559</th>\n",
       "    </tr>\n",
       "  </thead>\n",
       "  <tbody>\n",
       "    <tr>\n",
       "      <th>0</th>\n",
       "      <td>-0.106052</td>\n",
       "      <td>-0.028277</td>\n",
       "      <td>-0.049900</td>\n",
       "      <td>-0.048172</td>\n",
       "      <td>-0.022454</td>\n",
       "      <td>-0.094518</td>\n",
       "      <td>-0.061531</td>\n",
       "      <td>0.153645</td>\n",
       "      <td>0.061776</td>\n",
       "      <td>-0.111622</td>\n",
       "      <td>...</td>\n",
       "      <td>0.154779</td>\n",
       "      <td>0.000940</td>\n",
       "      <td>-0.012216</td>\n",
       "      <td>-0.037772</td>\n",
       "      <td>0.071069</td>\n",
       "      <td>0.011423</td>\n",
       "      <td>0.039311</td>\n",
       "      <td>-0.051318</td>\n",
       "      <td>-0.138031</td>\n",
       "      <td>-0.068270</td>\n",
       "    </tr>\n",
       "    <tr>\n",
       "      <th>1</th>\n",
       "      <td>-0.030346</td>\n",
       "      <td>0.015794</td>\n",
       "      <td>-0.038204</td>\n",
       "      <td>-0.069977</td>\n",
       "      <td>0.002786</td>\n",
       "      <td>-0.097417</td>\n",
       "      <td>-0.018056</td>\n",
       "      <td>0.138168</td>\n",
       "      <td>0.107735</td>\n",
       "      <td>-0.021421</td>\n",
       "      <td>...</td>\n",
       "      <td>-0.009343</td>\n",
       "      <td>-0.137165</td>\n",
       "      <td>0.070771</td>\n",
       "      <td>-0.039607</td>\n",
       "      <td>-0.011787</td>\n",
       "      <td>-0.077273</td>\n",
       "      <td>0.020558</td>\n",
       "      <td>0.014838</td>\n",
       "      <td>-0.122289</td>\n",
       "      <td>-0.059000</td>\n",
       "    </tr>\n",
       "    <tr>\n",
       "      <th>2</th>\n",
       "      <td>0.048114</td>\n",
       "      <td>-0.019850</td>\n",
       "      <td>-0.035541</td>\n",
       "      <td>-0.012063</td>\n",
       "      <td>-0.046040</td>\n",
       "      <td>-0.005736</td>\n",
       "      <td>-0.100301</td>\n",
       "      <td>0.032832</td>\n",
       "      <td>0.075569</td>\n",
       "      <td>-0.059691</td>\n",
       "      <td>...</td>\n",
       "      <td>0.086863</td>\n",
       "      <td>-0.108787</td>\n",
       "      <td>0.040456</td>\n",
       "      <td>-0.013540</td>\n",
       "      <td>0.002605</td>\n",
       "      <td>0.025393</td>\n",
       "      <td>0.053454</td>\n",
       "      <td>0.048783</td>\n",
       "      <td>-0.092088</td>\n",
       "      <td>-0.026373</td>\n",
       "    </tr>\n",
       "    <tr>\n",
       "      <th>3</th>\n",
       "      <td>-0.070998</td>\n",
       "      <td>0.039915</td>\n",
       "      <td>0.012892</td>\n",
       "      <td>-0.073913</td>\n",
       "      <td>0.015845</td>\n",
       "      <td>-0.079292</td>\n",
       "      <td>-0.015932</td>\n",
       "      <td>0.098513</td>\n",
       "      <td>0.058595</td>\n",
       "      <td>0.006227</td>\n",
       "      <td>...</td>\n",
       "      <td>0.018793</td>\n",
       "      <td>-0.004514</td>\n",
       "      <td>0.010956</td>\n",
       "      <td>0.013707</td>\n",
       "      <td>0.003797</td>\n",
       "      <td>0.046510</td>\n",
       "      <td>0.055690</td>\n",
       "      <td>-0.009589</td>\n",
       "      <td>-0.178329</td>\n",
       "      <td>-0.030247</td>\n",
       "    </tr>\n",
       "    <tr>\n",
       "      <th>4</th>\n",
       "      <td>0.007949</td>\n",
       "      <td>0.030922</td>\n",
       "      <td>-0.084674</td>\n",
       "      <td>-0.069309</td>\n",
       "      <td>-0.037835</td>\n",
       "      <td>-0.033629</td>\n",
       "      <td>-0.046397</td>\n",
       "      <td>0.229970</td>\n",
       "      <td>0.048101</td>\n",
       "      <td>-0.107052</td>\n",
       "      <td>...</td>\n",
       "      <td>0.144373</td>\n",
       "      <td>-0.057360</td>\n",
       "      <td>0.091397</td>\n",
       "      <td>-0.017375</td>\n",
       "      <td>0.138946</td>\n",
       "      <td>-0.051818</td>\n",
       "      <td>-0.002533</td>\n",
       "      <td>-0.015262</td>\n",
       "      <td>-0.105503</td>\n",
       "      <td>-0.055646</td>\n",
       "    </tr>\n",
       "  </tbody>\n",
       "</table>\n",
       "<p>5 rows × 2560 columns</p>\n",
       "</div>"
      ],
      "text/plain": [
       "          0         1         2         3         4         5         6  \\\n",
       "0 -0.106052 -0.028277 -0.049900 -0.048172 -0.022454 -0.094518 -0.061531   \n",
       "1 -0.030346  0.015794 -0.038204 -0.069977  0.002786 -0.097417 -0.018056   \n",
       "2  0.048114 -0.019850 -0.035541 -0.012063 -0.046040 -0.005736 -0.100301   \n",
       "3 -0.070998  0.039915  0.012892 -0.073913  0.015845 -0.079292 -0.015932   \n",
       "4  0.007949  0.030922 -0.084674 -0.069309 -0.037835 -0.033629 -0.046397   \n",
       "\n",
       "          7         8         9  ...      2550      2551      2552      2553  \\\n",
       "0  0.153645  0.061776 -0.111622  ...  0.154779  0.000940 -0.012216 -0.037772   \n",
       "1  0.138168  0.107735 -0.021421  ... -0.009343 -0.137165  0.070771 -0.039607   \n",
       "2  0.032832  0.075569 -0.059691  ...  0.086863 -0.108787  0.040456 -0.013540   \n",
       "3  0.098513  0.058595  0.006227  ...  0.018793 -0.004514  0.010956  0.013707   \n",
       "4  0.229970  0.048101 -0.107052  ...  0.144373 -0.057360  0.091397 -0.017375   \n",
       "\n",
       "       2554      2555      2556      2557      2558      2559  \n",
       "0  0.071069  0.011423  0.039311 -0.051318 -0.138031 -0.068270  \n",
       "1 -0.011787 -0.077273  0.020558  0.014838 -0.122289 -0.059000  \n",
       "2  0.002605  0.025393  0.053454  0.048783 -0.092088 -0.026373  \n",
       "3  0.003797  0.046510  0.055690 -0.009589 -0.178329 -0.030247  \n",
       "4  0.138946 -0.051818 -0.002533 -0.015262 -0.105503 -0.055646  \n",
       "\n",
       "[5 rows x 2560 columns]"
      ]
     },
     "execution_count": 453,
     "metadata": {},
     "output_type": "execute_result"
    }
   ],
   "source": [
    "dataset2 = pd.read_csv('data/dataset2.csv')\n",
    "dataset2.head()\n"
   ]
  },
  {
   "cell_type": "markdown",
   "id": "49e2ebb7",
   "metadata": {},
   "source": [
    "### Dataset_ unlabeled 2 "
   ]
  },
  {
   "cell_type": "code",
   "execution_count": 461,
   "id": "5f5766e7",
   "metadata": {},
   "outputs": [
    {
     "data": {
      "text/html": [
       "<div>\n",
       "<style scoped>\n",
       "    .dataframe tbody tr th:only-of-type {\n",
       "        vertical-align: middle;\n",
       "    }\n",
       "\n",
       "    .dataframe tbody tr th {\n",
       "        vertical-align: top;\n",
       "    }\n",
       "\n",
       "    .dataframe thead th {\n",
       "        text-align: right;\n",
       "    }\n",
       "</style>\n",
       "<table border=\"1\" class=\"dataframe\">\n",
       "  <thead>\n",
       "    <tr style=\"text-align: right;\">\n",
       "      <th></th>\n",
       "      <th>0</th>\n",
       "      <th>1</th>\n",
       "      <th>2</th>\n",
       "      <th>3</th>\n",
       "      <th>4</th>\n",
       "      <th>5</th>\n",
       "      <th>6</th>\n",
       "      <th>7</th>\n",
       "      <th>8</th>\n",
       "      <th>9</th>\n",
       "      <th>...</th>\n",
       "      <th>2550</th>\n",
       "      <th>2551</th>\n",
       "      <th>2552</th>\n",
       "      <th>2553</th>\n",
       "      <th>2554</th>\n",
       "      <th>2555</th>\n",
       "      <th>2556</th>\n",
       "      <th>2557</th>\n",
       "      <th>2558</th>\n",
       "      <th>2559</th>\n",
       "    </tr>\n",
       "  </thead>\n",
       "  <tbody>\n",
       "    <tr>\n",
       "      <th>0</th>\n",
       "      <td>-0.146392</td>\n",
       "      <td>-0.044388</td>\n",
       "      <td>-0.073572</td>\n",
       "      <td>-0.083538</td>\n",
       "      <td>0.013867</td>\n",
       "      <td>-0.115059</td>\n",
       "      <td>-0.021020</td>\n",
       "      <td>0.251900</td>\n",
       "      <td>0.082191</td>\n",
       "      <td>-0.110854</td>\n",
       "      <td>...</td>\n",
       "      <td>0.104507</td>\n",
       "      <td>-0.209106</td>\n",
       "      <td>0.026390</td>\n",
       "      <td>-0.034675</td>\n",
       "      <td>0.164679</td>\n",
       "      <td>-0.046357</td>\n",
       "      <td>-0.086354</td>\n",
       "      <td>0.092409</td>\n",
       "      <td>-0.050137</td>\n",
       "      <td>-0.178787</td>\n",
       "    </tr>\n",
       "    <tr>\n",
       "      <th>1</th>\n",
       "      <td>-0.097094</td>\n",
       "      <td>0.003643</td>\n",
       "      <td>-0.010534</td>\n",
       "      <td>-0.083778</td>\n",
       "      <td>0.009176</td>\n",
       "      <td>-0.063397</td>\n",
       "      <td>-0.049395</td>\n",
       "      <td>0.153481</td>\n",
       "      <td>0.013189</td>\n",
       "      <td>-0.057253</td>\n",
       "      <td>...</td>\n",
       "      <td>0.057338</td>\n",
       "      <td>-0.095117</td>\n",
       "      <td>0.106728</td>\n",
       "      <td>-0.085964</td>\n",
       "      <td>0.067033</td>\n",
       "      <td>0.001800</td>\n",
       "      <td>0.046425</td>\n",
       "      <td>0.032737</td>\n",
       "      <td>-0.098372</td>\n",
       "      <td>-0.114315</td>\n",
       "    </tr>\n",
       "    <tr>\n",
       "      <th>2</th>\n",
       "      <td>0.005237</td>\n",
       "      <td>-0.020602</td>\n",
       "      <td>-0.002926</td>\n",
       "      <td>-0.080908</td>\n",
       "      <td>0.027083</td>\n",
       "      <td>0.034999</td>\n",
       "      <td>-0.044002</td>\n",
       "      <td>0.044819</td>\n",
       "      <td>0.000701</td>\n",
       "      <td>-0.027679</td>\n",
       "      <td>...</td>\n",
       "      <td>0.055709</td>\n",
       "      <td>-0.095342</td>\n",
       "      <td>0.042804</td>\n",
       "      <td>-0.025231</td>\n",
       "      <td>0.053732</td>\n",
       "      <td>-0.037928</td>\n",
       "      <td>0.064099</td>\n",
       "      <td>0.038445</td>\n",
       "      <td>-0.057057</td>\n",
       "      <td>-0.022486</td>\n",
       "    </tr>\n",
       "    <tr>\n",
       "      <th>3</th>\n",
       "      <td>-0.012934</td>\n",
       "      <td>-0.014526</td>\n",
       "      <td>-0.105428</td>\n",
       "      <td>-0.010334</td>\n",
       "      <td>-0.017943</td>\n",
       "      <td>-0.113075</td>\n",
       "      <td>0.023310</td>\n",
       "      <td>0.148012</td>\n",
       "      <td>0.044867</td>\n",
       "      <td>-0.084258</td>\n",
       "      <td>...</td>\n",
       "      <td>0.115832</td>\n",
       "      <td>-0.082564</td>\n",
       "      <td>0.045533</td>\n",
       "      <td>-0.065703</td>\n",
       "      <td>0.012751</td>\n",
       "      <td>-0.011484</td>\n",
       "      <td>0.043135</td>\n",
       "      <td>0.027399</td>\n",
       "      <td>-0.050511</td>\n",
       "      <td>-0.100954</td>\n",
       "    </tr>\n",
       "    <tr>\n",
       "      <th>4</th>\n",
       "      <td>0.027225</td>\n",
       "      <td>-0.053654</td>\n",
       "      <td>-0.052486</td>\n",
       "      <td>-0.090339</td>\n",
       "      <td>0.027644</td>\n",
       "      <td>-0.001249</td>\n",
       "      <td>-0.029163</td>\n",
       "      <td>0.170268</td>\n",
       "      <td>0.087543</td>\n",
       "      <td>-0.038012</td>\n",
       "      <td>...</td>\n",
       "      <td>0.063100</td>\n",
       "      <td>-0.113716</td>\n",
       "      <td>0.046959</td>\n",
       "      <td>-0.027659</td>\n",
       "      <td>0.130872</td>\n",
       "      <td>-0.057488</td>\n",
       "      <td>0.032790</td>\n",
       "      <td>0.111607</td>\n",
       "      <td>-0.140744</td>\n",
       "      <td>-0.089814</td>\n",
       "    </tr>\n",
       "  </tbody>\n",
       "</table>\n",
       "<p>5 rows × 2560 columns</p>\n",
       "</div>"
      ],
      "text/plain": [
       "          0         1         2         3         4         5         6  \\\n",
       "0 -0.146392 -0.044388 -0.073572 -0.083538  0.013867 -0.115059 -0.021020   \n",
       "1 -0.097094  0.003643 -0.010534 -0.083778  0.009176 -0.063397 -0.049395   \n",
       "2  0.005237 -0.020602 -0.002926 -0.080908  0.027083  0.034999 -0.044002   \n",
       "3 -0.012934 -0.014526 -0.105428 -0.010334 -0.017943 -0.113075  0.023310   \n",
       "4  0.027225 -0.053654 -0.052486 -0.090339  0.027644 -0.001249 -0.029163   \n",
       "\n",
       "          7         8         9  ...      2550      2551      2552      2553  \\\n",
       "0  0.251900  0.082191 -0.110854  ...  0.104507 -0.209106  0.026390 -0.034675   \n",
       "1  0.153481  0.013189 -0.057253  ...  0.057338 -0.095117  0.106728 -0.085964   \n",
       "2  0.044819  0.000701 -0.027679  ...  0.055709 -0.095342  0.042804 -0.025231   \n",
       "3  0.148012  0.044867 -0.084258  ...  0.115832 -0.082564  0.045533 -0.065703   \n",
       "4  0.170268  0.087543 -0.038012  ...  0.063100 -0.113716  0.046959 -0.027659   \n",
       "\n",
       "       2554      2555      2556      2557      2558      2559  \n",
       "0  0.164679 -0.046357 -0.086354  0.092409 -0.050137 -0.178787  \n",
       "1  0.067033  0.001800  0.046425  0.032737 -0.098372 -0.114315  \n",
       "2  0.053732 -0.037928  0.064099  0.038445 -0.057057 -0.022486  \n",
       "3  0.012751 -0.011484  0.043135  0.027399 -0.050511 -0.100954  \n",
       "4  0.130872 -0.057488  0.032790  0.111607 -0.140744 -0.089814  \n",
       "\n",
       "[5 rows x 2560 columns]"
      ]
     },
     "execution_count": 461,
     "metadata": {},
     "output_type": "execute_result"
    }
   ],
   "source": [
    "dataset2_unlabeled = pd.read_csv('data/esm2_unlabeled.csv')\n",
    "dataset2_unlabeled.head()"
   ]
  },
  {
   "cell_type": "markdown",
   "id": "f32474c8",
   "metadata": {},
   "source": [
    "## Transform highdimentional features into low dimention al features \n",
    "## Here here 238 number of  PCA components is chosen as they exåplain 80 percent of the data varience"
   ]
  },
  {
   "cell_type": "code",
   "execution_count": 462,
   "id": "e04de6f3",
   "metadata": {},
   "outputs": [],
   "source": [
    "\n",
    "# number of PCA\n",
    "pca = PCA(n_components=238)\n",
    "\n",
    "# Initialize the StandardScaler to normalize features \n",
    "scaler = StandardScaler()\n",
    "\n",
    "# Both dataset standardisation\n",
    "X21_scaled = scaler.fit_transform(dataset2_unlabeled)\n",
    "X22_scaled = scaler.transform(dataset2)\n",
    "\n",
    "# Fit PCA on the first dataset(Dataset 2 unlabeled)\n",
    "pca.fit(X21_scaled)\n",
    "\n",
    "# Transform embeding datasets using the fitted PCA\n",
    "#X1_transformed = pca.transform(X1_scaled)\n",
    "\n",
    "X2_transformed = pca.transform(X2_scaled)\n"
   ]
  },
  {
   "cell_type": "code",
   "execution_count": 463,
   "id": "1b7e8c80",
   "metadata": {},
   "outputs": [
    {
     "data": {
      "text/plain": [
       "(51, 238)"
      ]
     },
     "execution_count": 463,
     "metadata": {},
     "output_type": "execute_result"
    }
   ],
   "source": [
    "X2_transformed.shape"
   ]
  },
  {
   "cell_type": "markdown",
   "id": "bb9ae763",
   "metadata": {},
   "source": [
    "# 1.2.3 Combination Dataset (Stractural features  and embedding dataset)\n",
    "\n",
    "## Dataset 3\n"
   ]
  },
  {
   "cell_type": "code",
   "execution_count": 464,
   "id": "f3b68c17",
   "metadata": {},
   "outputs": [
    {
     "data": {
      "text/html": [
       "<div>\n",
       "<style scoped>\n",
       "    .dataframe tbody tr th:only-of-type {\n",
       "        vertical-align: middle;\n",
       "    }\n",
       "\n",
       "    .dataframe tbody tr th {\n",
       "        vertical-align: top;\n",
       "    }\n",
       "\n",
       "    .dataframe thead th {\n",
       "        text-align: right;\n",
       "    }\n",
       "</style>\n",
       "<table border=\"1\" class=\"dataframe\">\n",
       "  <thead>\n",
       "    <tr style=\"text-align: right;\">\n",
       "      <th></th>\n",
       "      <th>0</th>\n",
       "      <th>1</th>\n",
       "      <th>2</th>\n",
       "      <th>3</th>\n",
       "      <th>4</th>\n",
       "      <th>5</th>\n",
       "      <th>6</th>\n",
       "      <th>7</th>\n",
       "      <th>8</th>\n",
       "      <th>9</th>\n",
       "      <th>...</th>\n",
       "      <th>2568</th>\n",
       "      <th>2569</th>\n",
       "      <th>2570</th>\n",
       "      <th>2571</th>\n",
       "      <th>2572</th>\n",
       "      <th>2573</th>\n",
       "      <th>2574</th>\n",
       "      <th>2575</th>\n",
       "      <th>2576</th>\n",
       "      <th>2577</th>\n",
       "    </tr>\n",
       "  </thead>\n",
       "  <tbody>\n",
       "    <tr>\n",
       "      <th>0</th>\n",
       "      <td>198</td>\n",
       "      <td>32</td>\n",
       "      <td>3.0</td>\n",
       "      <td>8</td>\n",
       "      <td>7863.049316</td>\n",
       "      <td>14</td>\n",
       "      <td>13</td>\n",
       "      <td>1202.166504</td>\n",
       "      <td>6</td>\n",
       "      <td>4</td>\n",
       "      <td>...</td>\n",
       "      <td>0.154779</td>\n",
       "      <td>0.000940</td>\n",
       "      <td>-0.012216</td>\n",
       "      <td>-0.037772</td>\n",
       "      <td>0.071069</td>\n",
       "      <td>0.011423</td>\n",
       "      <td>0.039311</td>\n",
       "      <td>-0.051318</td>\n",
       "      <td>-0.138031</td>\n",
       "      <td>-0.068270</td>\n",
       "    </tr>\n",
       "    <tr>\n",
       "      <th>1</th>\n",
       "      <td>316</td>\n",
       "      <td>36</td>\n",
       "      <td>0.0</td>\n",
       "      <td>-10</td>\n",
       "      <td>12592.415039</td>\n",
       "      <td>21</td>\n",
       "      <td>21</td>\n",
       "      <td>1708.759888</td>\n",
       "      <td>31</td>\n",
       "      <td>26</td>\n",
       "      <td>...</td>\n",
       "      <td>-0.009343</td>\n",
       "      <td>-0.137165</td>\n",
       "      <td>0.070771</td>\n",
       "      <td>-0.039607</td>\n",
       "      <td>-0.011787</td>\n",
       "      <td>-0.077273</td>\n",
       "      <td>0.020558</td>\n",
       "      <td>0.014838</td>\n",
       "      <td>-0.122289</td>\n",
       "      <td>-0.059000</td>\n",
       "    </tr>\n",
       "    <tr>\n",
       "      <th>2</th>\n",
       "      <td>153</td>\n",
       "      <td>15</td>\n",
       "      <td>0.0</td>\n",
       "      <td>0</td>\n",
       "      <td>8144.530273</td>\n",
       "      <td>21</td>\n",
       "      <td>21</td>\n",
       "      <td>1973.160889</td>\n",
       "      <td>21</td>\n",
       "      <td>21</td>\n",
       "      <td>...</td>\n",
       "      <td>0.086863</td>\n",
       "      <td>-0.108787</td>\n",
       "      <td>0.040456</td>\n",
       "      <td>-0.013540</td>\n",
       "      <td>0.002605</td>\n",
       "      <td>0.025393</td>\n",
       "      <td>0.053454</td>\n",
       "      <td>0.048783</td>\n",
       "      <td>-0.092088</td>\n",
       "      <td>-0.026373</td>\n",
       "    </tr>\n",
       "    <tr>\n",
       "      <th>3</th>\n",
       "      <td>123</td>\n",
       "      <td>6</td>\n",
       "      <td>4.0</td>\n",
       "      <td>-8</td>\n",
       "      <td>7029.185059</td>\n",
       "      <td>13</td>\n",
       "      <td>13</td>\n",
       "      <td>1405.147583</td>\n",
       "      <td>21</td>\n",
       "      <td>21</td>\n",
       "      <td>...</td>\n",
       "      <td>0.018793</td>\n",
       "      <td>-0.004514</td>\n",
       "      <td>0.010956</td>\n",
       "      <td>0.013707</td>\n",
       "      <td>0.003797</td>\n",
       "      <td>0.046510</td>\n",
       "      <td>0.055690</td>\n",
       "      <td>-0.009589</td>\n",
       "      <td>-0.178329</td>\n",
       "      <td>-0.030247</td>\n",
       "    </tr>\n",
       "    <tr>\n",
       "      <th>4</th>\n",
       "      <td>279</td>\n",
       "      <td>33</td>\n",
       "      <td>2.0</td>\n",
       "      <td>1</td>\n",
       "      <td>10385.035156</td>\n",
       "      <td>20</td>\n",
       "      <td>20</td>\n",
       "      <td>1764.792358</td>\n",
       "      <td>19</td>\n",
       "      <td>18</td>\n",
       "      <td>...</td>\n",
       "      <td>0.144373</td>\n",
       "      <td>-0.057360</td>\n",
       "      <td>0.091397</td>\n",
       "      <td>-0.017375</td>\n",
       "      <td>0.138946</td>\n",
       "      <td>-0.051818</td>\n",
       "      <td>-0.002533</td>\n",
       "      <td>-0.015262</td>\n",
       "      <td>-0.105503</td>\n",
       "      <td>-0.055646</td>\n",
       "    </tr>\n",
       "  </tbody>\n",
       "</table>\n",
       "<p>5 rows × 2578 columns</p>\n",
       "</div>"
      ],
      "text/plain": [
       "   0     1     2     3             4     5     6            7     8     9     \\\n",
       "0   198    32   3.0     8   7863.049316    14    13  1202.166504     6     4   \n",
       "1   316    36   0.0   -10  12592.415039    21    21  1708.759888    31    26   \n",
       "2   153    15   0.0     0   8144.530273    21    21  1973.160889    21    21   \n",
       "3   123     6   4.0    -8   7029.185059    13    13  1405.147583    21    21   \n",
       "4   279    33   2.0     1  10385.035156    20    20  1764.792358    19    18   \n",
       "\n",
       "   ...      2568      2569      2570      2571      2572      2573      2574  \\\n",
       "0  ...  0.154779  0.000940 -0.012216 -0.037772  0.071069  0.011423  0.039311   \n",
       "1  ... -0.009343 -0.137165  0.070771 -0.039607 -0.011787 -0.077273  0.020558   \n",
       "2  ...  0.086863 -0.108787  0.040456 -0.013540  0.002605  0.025393  0.053454   \n",
       "3  ...  0.018793 -0.004514  0.010956  0.013707  0.003797  0.046510  0.055690   \n",
       "4  ...  0.144373 -0.057360  0.091397 -0.017375  0.138946 -0.051818 -0.002533   \n",
       "\n",
       "       2575      2576      2577  \n",
       "0 -0.051318 -0.138031 -0.068270  \n",
       "1  0.014838 -0.122289 -0.059000  \n",
       "2  0.048783 -0.092088 -0.026373  \n",
       "3 -0.009589 -0.178329 -0.030247  \n",
       "4 -0.015262 -0.105503 -0.055646  \n",
       "\n",
       "[5 rows x 2578 columns]"
      ]
     },
     "execution_count": 464,
     "metadata": {},
     "output_type": "execute_result"
    }
   ],
   "source": [
    "#Dataset o1\n",
    "data1 = data.drop(['PDB', 'Long SS', 'SDS Stable'], axis=1) #drop PDB, Long SS and target feature SDS Stable\n",
    "\n",
    "# Concatenate the DataFrames\n",
    "dataset3 = pd.concat([data1, dataset2], axis = 1,ignore_index=True)\n",
    "dataset3.head()"
   ]
  },
  {
   "cell_type": "markdown",
   "id": "55a8232b",
   "metadata": {},
   "source": [
    "## Dataset_3_unlabeled\n",
    "​"
   ]
  },
  {
   "cell_type": "code",
   "execution_count": 465,
   "id": "07fbf5a8",
   "metadata": {},
   "outputs": [
    {
     "data": {
      "text/html": [
       "<div>\n",
       "<style scoped>\n",
       "    .dataframe tbody tr th:only-of-type {\n",
       "        vertical-align: middle;\n",
       "    }\n",
       "\n",
       "    .dataframe tbody tr th {\n",
       "        vertical-align: top;\n",
       "    }\n",
       "\n",
       "    .dataframe thead th {\n",
       "        text-align: right;\n",
       "    }\n",
       "</style>\n",
       "<table border=\"1\" class=\"dataframe\">\n",
       "  <thead>\n",
       "    <tr style=\"text-align: right;\">\n",
       "      <th></th>\n",
       "      <th>0</th>\n",
       "      <th>1</th>\n",
       "      <th>2</th>\n",
       "      <th>3</th>\n",
       "      <th>4</th>\n",
       "      <th>5</th>\n",
       "      <th>6</th>\n",
       "      <th>7</th>\n",
       "      <th>8</th>\n",
       "      <th>9</th>\n",
       "      <th>...</th>\n",
       "      <th>2568</th>\n",
       "      <th>2569</th>\n",
       "      <th>2570</th>\n",
       "      <th>2571</th>\n",
       "      <th>2572</th>\n",
       "      <th>2573</th>\n",
       "      <th>2574</th>\n",
       "      <th>2575</th>\n",
       "      <th>2576</th>\n",
       "      <th>2577</th>\n",
       "    </tr>\n",
       "  </thead>\n",
       "  <tbody>\n",
       "    <tr>\n",
       "      <th>0</th>\n",
       "      <td>760</td>\n",
       "      <td>59</td>\n",
       "      <td>1</td>\n",
       "      <td>-13</td>\n",
       "      <td>29082.982422</td>\n",
       "      <td>83</td>\n",
       "      <td>79</td>\n",
       "      <td>7253.579102</td>\n",
       "      <td>96</td>\n",
       "      <td>87</td>\n",
       "      <td>...</td>\n",
       "      <td>0.104507</td>\n",
       "      <td>-0.209106</td>\n",
       "      <td>0.026390</td>\n",
       "      <td>-0.034675</td>\n",
       "      <td>0.164679</td>\n",
       "      <td>-0.046357</td>\n",
       "      <td>-0.086354</td>\n",
       "      <td>0.092409</td>\n",
       "      <td>-0.050137</td>\n",
       "      <td>-0.178787</td>\n",
       "    </tr>\n",
       "    <tr>\n",
       "      <th>1</th>\n",
       "      <td>259</td>\n",
       "      <td>17</td>\n",
       "      <td>0</td>\n",
       "      <td>-8</td>\n",
       "      <td>11591.454102</td>\n",
       "      <td>20</td>\n",
       "      <td>19</td>\n",
       "      <td>1613.963379</td>\n",
       "      <td>28</td>\n",
       "      <td>28</td>\n",
       "      <td>...</td>\n",
       "      <td>0.057338</td>\n",
       "      <td>-0.095117</td>\n",
       "      <td>0.106728</td>\n",
       "      <td>-0.085964</td>\n",
       "      <td>0.067033</td>\n",
       "      <td>0.001800</td>\n",
       "      <td>0.046425</td>\n",
       "      <td>0.032737</td>\n",
       "      <td>-0.098372</td>\n",
       "      <td>-0.114315</td>\n",
       "    </tr>\n",
       "    <tr>\n",
       "      <th>2</th>\n",
       "      <td>419</td>\n",
       "      <td>32</td>\n",
       "      <td>0</td>\n",
       "      <td>-15</td>\n",
       "      <td>13865.898438</td>\n",
       "      <td>38</td>\n",
       "      <td>36</td>\n",
       "      <td>2739.008789</td>\n",
       "      <td>53</td>\n",
       "      <td>42</td>\n",
       "      <td>...</td>\n",
       "      <td>0.055709</td>\n",
       "      <td>-0.095342</td>\n",
       "      <td>0.042804</td>\n",
       "      <td>-0.025231</td>\n",
       "      <td>0.053732</td>\n",
       "      <td>-0.037928</td>\n",
       "      <td>0.064099</td>\n",
       "      <td>0.038445</td>\n",
       "      <td>-0.057057</td>\n",
       "      <td>-0.022486</td>\n",
       "    </tr>\n",
       "    <tr>\n",
       "      <th>3</th>\n",
       "      <td>230</td>\n",
       "      <td>28</td>\n",
       "      <td>1</td>\n",
       "      <td>2</td>\n",
       "      <td>8888.607422</td>\n",
       "      <td>19</td>\n",
       "      <td>18</td>\n",
       "      <td>1438.582153</td>\n",
       "      <td>17</td>\n",
       "      <td>16</td>\n",
       "      <td>...</td>\n",
       "      <td>0.115832</td>\n",
       "      <td>-0.082564</td>\n",
       "      <td>0.045533</td>\n",
       "      <td>-0.065703</td>\n",
       "      <td>0.012751</td>\n",
       "      <td>-0.011484</td>\n",
       "      <td>0.043135</td>\n",
       "      <td>0.027399</td>\n",
       "      <td>-0.050511</td>\n",
       "      <td>-0.100954</td>\n",
       "    </tr>\n",
       "    <tr>\n",
       "      <th>4</th>\n",
       "      <td>137</td>\n",
       "      <td>6</td>\n",
       "      <td>0</td>\n",
       "      <td>2</td>\n",
       "      <td>8025.223633</td>\n",
       "      <td>23</td>\n",
       "      <td>23</td>\n",
       "      <td>2504.927734</td>\n",
       "      <td>21</td>\n",
       "      <td>20</td>\n",
       "      <td>...</td>\n",
       "      <td>0.063100</td>\n",
       "      <td>-0.113716</td>\n",
       "      <td>0.046959</td>\n",
       "      <td>-0.027659</td>\n",
       "      <td>0.130872</td>\n",
       "      <td>-0.057488</td>\n",
       "      <td>0.032790</td>\n",
       "      <td>0.111607</td>\n",
       "      <td>-0.140744</td>\n",
       "      <td>-0.089814</td>\n",
       "    </tr>\n",
       "  </tbody>\n",
       "</table>\n",
       "<p>5 rows × 2578 columns</p>\n",
       "</div>"
      ],
      "text/plain": [
       "   0     1     2     3             4     5     6            7     8     9     \\\n",
       "0   760    59     1   -13  29082.982422    83    79  7253.579102    96    87   \n",
       "1   259    17     0    -8  11591.454102    20    19  1613.963379    28    28   \n",
       "2   419    32     0   -15  13865.898438    38    36  2739.008789    53    42   \n",
       "3   230    28     1     2   8888.607422    19    18  1438.582153    17    16   \n",
       "4   137     6     0     2   8025.223633    23    23  2504.927734    21    20   \n",
       "\n",
       "   ...      2568      2569      2570      2571      2572      2573      2574  \\\n",
       "0  ...  0.104507 -0.209106  0.026390 -0.034675  0.164679 -0.046357 -0.086354   \n",
       "1  ...  0.057338 -0.095117  0.106728 -0.085964  0.067033  0.001800  0.046425   \n",
       "2  ...  0.055709 -0.095342  0.042804 -0.025231  0.053732 -0.037928  0.064099   \n",
       "3  ...  0.115832 -0.082564  0.045533 -0.065703  0.012751 -0.011484  0.043135   \n",
       "4  ...  0.063100 -0.113716  0.046959 -0.027659  0.130872 -0.057488  0.032790   \n",
       "\n",
       "       2575      2576      2577  \n",
       "0  0.092409 -0.050137 -0.178787  \n",
       "1  0.032737 -0.098372 -0.114315  \n",
       "2  0.038445 -0.057057 -0.022486  \n",
       "3  0.027399 -0.050511 -0.100954  \n",
       "4  0.111607 -0.140744 -0.089814  \n",
       "\n",
       "[5 rows x 2578 columns]"
      ]
     },
     "execution_count": 465,
     "metadata": {},
     "output_type": "execute_result"
    }
   ],
   "source": [
    "#All dataset stractural\n",
    "dataset3_unlabeled_stractural = pd.read_csv('data/unlabeled.csv')\n",
    "\n",
    "##drop PDB, Long SS, Sequence and target feature SDS Stable\n",
    "\n",
    "dataset3_unlabeled_stractural= dataset3_unlabeled_stractural.drop(['PDB', 'Long SS', 'Sequence', 'SDS Stable'], axis=1)\n",
    "\n",
    "# Concatenate the DataFrames\n",
    "dataset3_unlabeled = pd.concat([dataset3_unlabeled_stractural, dataset2_unlabeled], axis = 1,ignore_index=True)\n",
    "dataset3_unlabeled.head()"
   ]
  },
  {
   "cell_type": "markdown",
   "id": "1a711314",
   "metadata": {},
   "source": [
    "## Transform highdimentional features into low dimention al features\n",
    "## Here here 238 number of PCA components is chosen as they exåplain 80 percent of the data varience"
   ]
  },
  {
   "cell_type": "code",
   "execution_count": 315,
   "id": "bb237cce",
   "metadata": {},
   "outputs": [],
   "source": [
    "\n",
    "# number of PCA\n",
    "pca = PCA(n_components=238)\n",
    "\n",
    "# Initialize the StandardScaler to normalize features \n",
    "scaler = StandardScaler()\n",
    "\n",
    "# Both dataset standardisation\n",
    "X31_scaled = scaler.fit_transform(dataset3_unlabeled)\n",
    "X32_scaled = scaler.transform(dataset3)\n",
    "\n",
    "# Fit PCA on the first dataset(Dataset 2 unlabeled)\n",
    "pca.fit(X31_scaled)\n",
    "\n",
    "# Transform embeding datasets using the fitted PCA\n",
    "\n",
    "X3_transformed = pca.transform(X32_scaled)\n",
    "\n"
   ]
  },
  {
   "cell_type": "code",
   "execution_count": 316,
   "id": "9af3a2db",
   "metadata": {},
   "outputs": [
    {
     "data": {
      "text/plain": [
       "(51, 238)"
      ]
     },
     "execution_count": 316,
     "metadata": {},
     "output_type": "execute_result"
    }
   ],
   "source": [
    "X3_transformed.shape"
   ]
  },
  {
   "cell_type": "markdown",
   "id": "25ee309c-43bd-4b2f-8bf0-cfd68002206f",
   "metadata": {},
   "source": [
    "# 2 ML Model training and validation with dataset 1"
   ]
  },
  {
   "cell_type": "markdown",
   "id": "9f7c3594-bd22-435e-9790-fcbfec2654c9",
   "metadata": {},
   "source": [
    "### 2.1 Extract the feature matrix and the target variable\n"
   ]
  },
  {
   "cell_type": "code",
   "execution_count": 317,
   "id": "865570f5-a910-4f0e-b929-e89a0670ef78",
   "metadata": {},
   "outputs": [],
   "source": [
    "y = data['SDS Stable']\n",
    "# Drop the linearly correlated features, target feature, protien ID and Long SS\n",
    "X = data.drop(['PDB', 'Long SS', 'No. pos.', 'No. Surf. pos.', 'No. neg.', 'No. Surf. neg.', 'SDS Stable'], axis=1)"
   ]
  },
  {
   "cell_type": "markdown",
   "id": "092d4124",
   "metadata": {},
   "source": [
    "### 2.2 Balance the dataset by oversampling the minority class using SMOTE."
   ]
  },
  {
   "cell_type": "code",
   "execution_count": 318,
   "id": "d222e243",
   "metadata": {},
   "outputs": [],
   "source": [
    "oversample = SMOTE()\n",
    "X, y = oversample.fit_resample(X, y)\n"
   ]
  },
  {
   "cell_type": "code",
   "execution_count": 319,
   "id": "c83c6237",
   "metadata": {},
   "outputs": [
    {
     "name": "stdout",
     "output_type": "stream",
     "text": [
      "(66, 14) (66,)\n"
     ]
    },
    {
     "data": {
      "text/plain": [
       "0    33\n",
       "1    33\n",
       "Name: SDS Stable, dtype: int64"
      ]
     },
     "execution_count": 319,
     "metadata": {},
     "output_type": "execute_result"
    }
   ],
   "source": [
    "#check the shape of the data after SMOTE if it balanced the dataset\n",
    "print(X.shape,y.shape)\n",
    "y.value_counts()"
   ]
  },
  {
   "cell_type": "markdown",
   "id": "d7788d45-4d12-40d7-8ba4-6b98da6337eb",
   "metadata": {},
   "source": [
    "### 2.3 Nested two-level cross-validation  function: the outer level for model validation and the inner level for model selection, where hyperparameter tuning takes place. The number of splits in the inner and outer folds is defined. Here, Leave-One-Out is used at both levels."
   ]
  },
  {
   "cell_type": "code",
   "execution_count": 320,
   "id": "dd98c421-4125-4959-ae84-e70c782494d2",
   "metadata": {},
   "outputs": [],
   "source": [
    "\n",
    "def two_level_cv1(model_pipeline, param_grid, X, y):\n",
    "    \n",
    "    \"\"\"\n",
    "    Inputs:\n",
    "    model_pipeline (Pipeline): ML pipeline used.\n",
    "    param_grid (dict): Hyperparameters for the pipeline.\n",
    "    X (array): Feature data.\n",
    "    y (array): Target data.\n",
    "\n",
    "    Returns:\n",
    "    confussion matrix: confussion matrix for the outer model validation whare model thereshold are set at 0.5.\n",
    "    fpr (array): False Positive Rates determined from models predicted probability and actual class.\n",
    "    tpr (array): True Positive Rates determined from models predicted probability and actual class.\n",
    "    roc_auc (float): Area Under the ROC Curve determined from models predicted probability and actual class derived fpr and tpr.\n",
    "    feature_imp:Permutation importance of the features in the model \n",
    "    true_labels:Actual Class label of the data point\n",
    "    pred_labels: Predicted class level of the data point at a threshold 0.5.\n",
    "    inner_cv_train_acc: inner grid mean tranning accuracy\n",
    "    test_acc: test accouracy \n",
    "    \n",
    "    \"\"\"\n",
    "    \n",
    "    \n",
    "    # Initiate the outer level k fold k= 6 6\n",
    "    k= 6\n",
    "    outer_cv = KFold(n_splits=k, shuffle=True, random_state=42)\n",
    "    \n",
    "    #define the empty lists to stor result \n",
    "    true_labels = []\n",
    "    prediction_probs = []\n",
    "    feature_imp = []\n",
    "    inner_cv_train_acc = []\n",
    "    test_acc = []\n",
    "    \n",
    "\n",
    "    # Splitting the dataset into training and testing for the outer loop\n",
    "    for train_index, test_index in outer_cv.split(X):\n",
    "        X_train, X_test = X.iloc[train_index], X.iloc[test_index]\n",
    "        y_train, y_test = y.iloc[train_index], y.iloc[test_index]\n",
    "\n",
    "        # Initiate the inner level Leave-One-Out loop\n",
    "        inner_loo = LeaveOneOut()\n",
    "\n",
    "\n",
    "        # GridSearchCV for hyperparameter tuning and finding the best model with that in the inner loop\n",
    "        inner_grid = GridSearchCV(estimator=model_pipeline, param_grid=param_grid, cv=inner_loo, n_jobs=-1, return_train_score=True)\n",
    "        \n",
    "        #fit the GridSearchCV on the training data of the split \n",
    "        inner_grid.fit(X_train, y_train)\n",
    "\n",
    "        # Find the best model from inner loop with the gridsearch perameter \".best_estimator_\" for the split data\n",
    "        best_model = inner_grid.best_estimator_\n",
    "         \n",
    "        # Find the prediction probabilities of the model on positive class on the test data of the split\n",
    "        probabilities = best_model.predict_proba(X_test)[:, 1]\n",
    "            \n",
    "        # Store the actual labels of the test data in for the split \n",
    "        true_labels.extend(y_test)\n",
    "        \n",
    "        #store the predicted probability of the class for the positive class for the test data point of that split\n",
    "        prediction_probs.extend(probabilities)\n",
    "        \n",
    "        #find the feature importance using permutation importance for the features  \n",
    "        #https://scikit-learn.org/stable/modules/permutation_importance.html\n",
    "        perm_importance = permutation_importance(best_model, X_test, y_test, n_repeats=30, random_state=42,n_jobs=-1)\n",
    "        \n",
    "        #stor the mean value permutation importance found of features in the inner loop \n",
    "        feature_imp.append(perm_importance.importances_mean)\n",
    "\n",
    "        # get the mean tranning accouracy in the inner loop \n",
    "        inner_avg_train_accuracy = np.mean(inner_grid.cv_results_['mean_train_score'])\n",
    "        \n",
    "        #Store the mean tranning accouracy found in the inner loop \n",
    "        inner_cv_train_acc.append(inner_avg_train_accuracy)\n",
    "        \n",
    "        # get the test accouracy in the inner loop \n",
    "        test_accuracy = accuracy_score(y_test, best_model.predict(X_test))\n",
    "        # Store test accouracy in the inner loop \n",
    "        test_acc.append(test_accuracy)\n",
    "\n",
    "\n",
    "    #calculating the fpr and tpr from from actual labels and  predicted probability\n",
    "    fpr, tpr, _ = roc_curve(true_labels, prediction_probs)\n",
    "    \n",
    "    #find the area under the curve(auc)\n",
    "    roc_auc = auc(fpr, tpr)\n",
    "    \n",
    "    #Convert the predicted probablity into class with the threshold 0.5 \n",
    "    pred_labels = [1 if p > 0.5 else 0 for p in prediction_probs]\n",
    "\n",
    "    #find the confussion matrix at threshold 0.5\n",
    "    conf_matrix = confusion_matrix(true_labels, [1 if p > 0.5 else 0 for p in prediction_probs])\n",
    "\n",
    "    #returans all the findinds\n",
    "    return conf_matrix, fpr, tpr, roc_auc, feature_imp,true_labels,pred_labels,inner_cv_train_acc,test_acc\n"
   ]
  },
  {
   "cell_type": "markdown",
   "id": "1b5d26fa",
   "metadata": {},
   "source": [
    "### 2.4 Feature importance function"
   ]
  },
  {
   "cell_type": "code",
   "execution_count": 321,
   "id": "ef0f2938",
   "metadata": {},
   "outputs": [],
   "source": [
    "\n",
    "def plot_feature_importance(feature_importance):\n",
    "    \n",
    "    # Calculating standard deviation and average importance for each feature\n",
    "    std_importance = np.std(feature_importance, axis=0)\n",
    "    average_importance = np.mean(feature_importance, axis=0)\n",
    "\n",
    "    # Extracting individual feature importances\n",
    "    indi_importances = np.array(feature_importance)\n",
    "\n",
    "    # Feature names\n",
    "    features = ['No. a.a.', 'Glycine', 'S.S.', 'Charge', 'SASA','Pos. area',\n",
    "                  'Neg. area', 'No. hyd.', 'No. Surf. hyd.', 'hyd. area', 'Alpha', 'Beta',\n",
    " \n",
    "                  'Salt bridges', 'H-bonds']\n",
    "\n",
    "    # Sorting features by their average importance\n",
    "    sorted_indices = np.argsort(average_importance)[::-1]\n",
    "    sorted_features = [features[i] for i in sorted_indices]\n",
    "    sorted_indi_importances = indi_importances[:, sorted_indices]\n",
    "\n",
    "    # Creating boxplot\n",
    "    plt.figure(figsize=(14, 6))\n",
    "    bp = plt.boxplot(sorted_indi_importances, labels=sorted_features, patch_artist=True)\n",
    "\n",
    "    # Coloring the boxes\n",
    "    for patch in bp['boxes']:\n",
    "        patch.set_facecolor('lightgreen')\n",
    "\n",
    "    # Adding mean and standard deviation\n",
    "    for i, idx in enumerate(sorted_indices):\n",
    "        mean = average_importance[idx]\n",
    "        std = std_importance[idx]\n",
    "        plt.text(i+1, mean - 2*std, f'Mean: {mean:.2f}\\nStd: {std:.2f}', ha='center', va='top')\n",
    "\n",
    "    # Setting title and labels\n",
    "    #plt.title('Feature Importance distribution with mean and std from KNN')\n",
    "    plt.ylabel('Importance')\n",
    "\n",
    "    plt.show()\n"
   ]
  },
  {
   "cell_type": "markdown",
   "id": "adf2d7ab",
   "metadata": {},
   "source": [
    "### 2.5  K-Nearest Neighbors"
   ]
  },
  {
   "cell_type": "markdown",
   "id": "80ccdda4",
   "metadata": {},
   "source": [
    "#### Define the pipeline, hyperparameter grid, and determine the results of various validation metrics using two-level cross-validation."
   ]
  },
  {
   "cell_type": "code",
   "execution_count": 322,
   "id": "c4548295-872f-4680-8f7c-f3b7133bec3a",
   "metadata": {},
   "outputs": [],
   "source": [
    "# Define the pipeline for KNN\n",
    "knn_pipeline = Pipeline([('scaler', StandardScaler()), \n",
    "                         ('knn', KNeighborsClassifier())])\n",
    "\n",
    "# Define parameter grid for KNN\n",
    "knn_param_grid = {\n",
    "    'knn__n_neighbors': np.arange(3, 7),\n",
    "    'knn__p': [1, 2],\n",
    "    'knn__metric': ['euclidean', 'manhattan']\n",
    "}\n",
    "\n",
    "# Call the  two_level_cv funcation with KNN pipeline, hyperperameter and data\n",
    "knn_data1 = two_level_cv1(knn_pipeline, knn_param_grid, X, y)\n"
   ]
  },
  {
   "cell_type": "code",
   "execution_count": 323,
   "id": "ebe6649b",
   "metadata": {},
   "outputs": [],
   "source": [
    "#knn_data1"
   ]
  },
  {
   "cell_type": "markdown",
   "id": "90fbff45",
   "metadata": {},
   "source": [
    "#### 2.5.1 Feature importance for knn model"
   ]
  },
  {
   "cell_type": "code",
   "execution_count": 324,
   "id": "cb7f0de4",
   "metadata": {},
   "outputs": [
    {
     "data": {
      "image/png": "[encoded data removed]",
      "text/plain": [
       "<Figure size 1400x600 with 1 Axes>"
      ]
     },
     "metadata": {},
     "output_type": "display_data"
    }
   ],
   "source": [
    "#plot feature importance \n",
    "plot_feature_importance(knn_data1[4])"
   ]
  },
  {
   "cell_type": "code",
   "execution_count": 325,
   "id": "27aa037f",
   "metadata": {},
   "outputs": [
    {
     "data": {
      "text/plain": [
       "(0.8385521885521888, 0.7575757575757577)"
      ]
     },
     "execution_count": 325,
     "metadata": {},
     "output_type": "execute_result"
    }
   ],
   "source": [
    "np.mean(knn_data1[7]),np.mean(knn_data1[8])"
   ]
  },
  {
   "cell_type": "markdown",
   "id": "aa9c0390-2986-427a-87be-7271d10d26e1",
   "metadata": {},
   "source": [
    "### 2.6 Logistic Regression"
   ]
  },
  {
   "cell_type": "markdown",
   "id": "31257e62",
   "metadata": {},
   "source": [
    "#### Define the pipeline, hyperparameter grid, and determine the results of various validation metrics using two-level cross-validation."
   ]
  },
  {
   "cell_type": "code",
   "execution_count": 326,
   "id": "daa1c8bb",
   "metadata": {},
   "outputs": [],
   "source": [
    "# pipeline for Logistic Regression\n",
    "lr_pipeline = Pipeline([('scaler', StandardScaler()), \n",
    "                            ('lr', LogisticRegression( solver='liblinear', max_iter=5000))])\n",
    "\n",
    "# parameter grid for Logistic Regression\n",
    "lr_param_grid = {\n",
    "    'lr__penalty': ['l1', 'l2'],#l1\n",
    "    'lr__C': np.logspace(-4, 1, 10)#0.7742636826811278\n",
    "}\n",
    "\n",
    "# Call the  two_level_cv funcation with Logistic Regression pipeline, hyperperameter and data\n",
    "lr_data1 = two_level_cv1(lr_pipeline, lr_param_grid, X, y)\n"
   ]
  },
  {
   "cell_type": "code",
   "execution_count": 327,
   "id": "826a56d5",
   "metadata": {},
   "outputs": [],
   "source": [
    "#lr_data1"
   ]
  },
  {
   "cell_type": "markdown",
   "id": "283330fc",
   "metadata": {},
   "source": [
    "### 2.6.1 Feature importance for the Logistic Regression model."
   ]
  },
  {
   "cell_type": "code",
   "execution_count": 328,
   "id": "7e460ac1",
   "metadata": {},
   "outputs": [
    {
     "data": {
      "image/png": "[encoded data removed]",
      "text/plain": [
       "<Figure size 1400x600 with 1 Axes>"
      ]
     },
     "metadata": {},
     "output_type": "display_data"
    }
   ],
   "source": [
    "#plot feature importance \n",
    "plot_feature_importance(lr_data1[4])"
   ]
  },
  {
   "cell_type": "code",
   "execution_count": 432,
   "id": "831af2c0",
   "metadata": {},
   "outputs": [],
   "source": [
    "#np.mean(lr_data1[7]),np.mean(lr_data1[8])"
   ]
  },
  {
   "cell_type": "markdown",
   "id": "d1350c2b-c9c6-407c-91bc-41c6f85913f6",
   "metadata": {},
   "source": [
    "### 2.7 Support Vector Machine"
   ]
  },
  {
   "cell_type": "markdown",
   "id": "1b22e03c",
   "metadata": {},
   "source": [
    "### Define the pipeline, hyperparameter grid, and determine the results of various validation metrics using two-level cross-validation."
   ]
  },
  {
   "cell_type": "code",
   "execution_count": 330,
   "id": "9d5223a4",
   "metadata": {},
   "outputs": [],
   "source": [
    "# Define the pipeline for SVC\n",
    "svc_pipeline = Pipeline([('scaler', StandardScaler()), \n",
    "                         ('svc', SVC())])\n",
    "\n",
    "# hyperparameter grid for SVC\n",
    "svc_param_grid = {\n",
    "    'svc__C': list(range(1, 11)),\n",
    "    'svc__kernel':[\"rbf\",\"poly\"],\n",
    "    'svc__probability': [True]\n",
    "\n",
    "}\n",
    "\n",
    "# Call the  svc_returns_data1 funcation with pipeline, hyperperameter and data\n",
    "svc_data1 = two_level_cv1(svc_pipeline, svc_param_grid, X, y)\n"
   ]
  },
  {
   "cell_type": "code",
   "execution_count": 331,
   "id": "c8bb720f",
   "metadata": {},
   "outputs": [],
   "source": [
    "#svc_data1"
   ]
  },
  {
   "cell_type": "code",
   "execution_count": 433,
   "id": "a8bd5be6",
   "metadata": {},
   "outputs": [],
   "source": [
    "#np.mean(svc_data1[7]),np.mean(svc_data1[8])"
   ]
  },
  {
   "cell_type": "markdown",
   "id": "5716e465",
   "metadata": {},
   "source": [
    "### 2.7.1 Feature importance for SVC "
   ]
  },
  {
   "cell_type": "code",
   "execution_count": 333,
   "id": "d6f933b7",
   "metadata": {},
   "outputs": [
    {
     "data": {
      "image/png": "[encoded data removed]",
      "text/plain": [
       "<Figure size 1400x600 with 1 Axes>"
      ]
     },
     "metadata": {},
     "output_type": "display_data"
    }
   ],
   "source": [
    "plot_feature_importance(svc_data1[4])\n"
   ]
  },
  {
   "cell_type": "markdown",
   "id": "58837a66-1374-4add-ac92-385883ec06dc",
   "metadata": {},
   "source": [
    "### 2.8 Random Forest"
   ]
  },
  {
   "cell_type": "markdown",
   "id": "451ea046",
   "metadata": {},
   "source": [
    "#### Define the pipeline, hyperparameter grid, and determine the results of various validation metrics using two-level cross-validation.¶"
   ]
  },
  {
   "cell_type": "code",
   "execution_count": 334,
   "id": "3757f221",
   "metadata": {},
   "outputs": [],
   "source": [
    "# Define the pipeline for Random Forest\n",
    "#\n",
    "rf_pipeline = Pipeline([('scaler', StandardScaler()),\n",
    "                        ('rf', RandomForestClassifier(bootstrap=True, oob_score=True, criterion='gini', random_state=42))])\n",
    "\n",
    "# hyperparameter grid for Random Forest\n",
    "rf_param_grid = {\n",
    "    'rf__max_depth': range(2, 5),\n",
    "    'rf__max_features': range(3, 14)\n",
    "}\n",
    "\n",
    "# Call the  two_level_cv funcation with Random Forest pipeline, hyperperameter and data\n",
    "rf_data1 =two_level_cv1(rf_pipeline, rf_param_grid, X, y)\n"
   ]
  },
  {
   "cell_type": "code",
   "execution_count": 335,
   "id": "7fd14de4",
   "metadata": {},
   "outputs": [
    {
     "data": {
      "text/plain": [
       "(0.9636108560350983, 0.893939393939394)"
      ]
     },
     "execution_count": 335,
     "metadata": {},
     "output_type": "execute_result"
    }
   ],
   "source": [
    "np.mean(rf_data1[7]),np.mean(rf_data1[8])"
   ]
  },
  {
   "cell_type": "markdown",
   "id": "290da2c3",
   "metadata": {},
   "source": [
    "### 2.8.1 Feature importance for the Random Forest model."
   ]
  },
  {
   "cell_type": "code",
   "execution_count": 336,
   "id": "b34718b9",
   "metadata": {},
   "outputs": [
    {
     "data": {
      "image/png": "[encoded data removed]",
      "text/plain": [
       "<Figure size 1400x600 with 1 Axes>"
      ]
     },
     "metadata": {},
     "output_type": "display_data"
    }
   ],
   "source": [
    "plot_feature_importance(rf_data1[4])\n"
   ]
  },
  {
   "cell_type": "markdown",
   "id": "61203ca7",
   "metadata": {},
   "source": [
    "### 2.9 Confusion matrix Function"
   ]
  },
  {
   "cell_type": "code",
   "execution_count": 337,
   "id": "92878494",
   "metadata": {},
   "outputs": [],
   "source": [
    "def plot_confusion_matrices(knn,lr,svc,rf):\n",
    "    plt.figure(figsize=(16,8))\n",
    "    plt.subplots_adjust(wspace = 0.4, hspace= 0.4)\n",
    "\n",
    "    ax = plt.subplot(2,4,1)\n",
    "    plt.title(\"KNN\")\n",
    "    sns.heatmap(knn.astype(np.int64),annot=True,cmap=\"Blues\",fmt=\"d\",cbar=False)\n",
    "    ax.set_xlabel('Predicted');\n",
    "    ax.set_ylabel('Actual'); \n",
    "    ax.xaxis.set_ticklabels(['Not Stable', 'Stable']);\n",
    "    ax.yaxis.set_ticklabels(['Not Stable', 'Stable']);\n",
    "\n",
    "    ax = plt.subplot(2,4,2)\n",
    "    plt.title(\"Logistic Regression\")\n",
    "    sns.heatmap(lr.astype(np.int64),annot=True,cmap=\"Blues\",fmt=\"d\",cbar=False)\n",
    "    ax.set_xlabel('Predicted');\n",
    "    ax.set_ylabel('Actual'); \n",
    "    ax.xaxis.set_ticklabels(['Not Stable', 'Stable']);\n",
    "    ax.yaxis.set_ticklabels(['Not Stable', 'Stable']);\n",
    "\n",
    "\n",
    "\n",
    "    ax= plt.subplot(2,4,3)\n",
    "    plt.title(\"SVM\")\n",
    "    sns.heatmap(svc.astype(np.int64),annot=True,cmap=\"Blues\",fmt=\"d\",cbar=False)\n",
    "    ax.set_xlabel('Predicted');\n",
    "    ax.set_ylabel('Actual'); \n",
    "    ax.xaxis.set_ticklabels(['Not Stable', 'Stable']);\n",
    "    ax.yaxis.set_ticklabels(['Not Stable', 'Stable']);\n",
    "\n",
    "    ax = plt.subplot(2,4,4)\n",
    "    plt.title(\"Random Forest\")\n",
    "    sns.heatmap(rf.astype(np.int64),annot=True,cmap=\"Blues\",fmt=\"d\",cbar=False)\n",
    "    ax.set_xlabel('Predicted');\n",
    "    ax.set_ylabel('Actual'); \n",
    "    ax.xaxis.set_ticklabels(['Not Stable', 'Stable']);\n",
    "    ax.yaxis.set_ticklabels(['Not Stable', 'Stable']);\n",
    "\n",
    "    plt.show()\n",
    "\n"
   ]
  },
  {
   "cell_type": "markdown",
   "id": "fd967d45-9895-4467-85b7-f509012a4654",
   "metadata": {},
   "source": [
    "### 2.10 Confusion matrix for the Models applying on dataset 1"
   ]
  },
  {
   "cell_type": "code",
   "execution_count": 338,
   "id": "8cf22e9d-76d9-48a5-99df-baea7c33ba67",
   "metadata": {},
   "outputs": [
    {
     "data": {
      "image/png": "[encoded data removed]",
      "text/plain": [
       "<Figure size 1600x800 with 4 Axes>"
      ]
     },
     "metadata": {},
     "output_type": "display_data"
    }
   ],
   "source": [
    "plot_confusion_matrices(knn_data1[0],lr_data1[0],svc_data1[0],rf_data1[0])"
   ]
  },
  {
   "cell_type": "markdown",
   "id": "8bdf1661",
   "metadata": {},
   "source": [
    "### 2.11 Roc curve for the models "
   ]
  },
  {
   "cell_type": "code",
   "execution_count": 339,
   "id": "e796a913-f1fc-4813-8a54-29a904289e50",
   "metadata": {},
   "outputs": [
    {
     "data": {
      "image/png": "[encoded data removed]",
      "text/plain": [
       "<Figure size 600x400 with 1 Axes>"
      ]
     },
     "metadata": {},
     "output_type": "display_data"
    }
   ],
   "source": [
    "# plot the roc curve for the model\n",
    "plt.figure(figsize=(6, 4))\n",
    "\n",
    "plt.plot(knn_data1[1], knn_data1[2], marker='', ls='-' , label=\"KNN, auc=\"+str(float(\"{:.3f}\".format(knn_data1[3]))) )\n",
    "plt.plot(lr_data1[1], lr_data1[2], marker='', ls='--' , label=\"Logistic Regression, auc=\"+str(float(\"{:.3f}\".format(lr_data1[3]))) )\n",
    "plt.plot(svc_data1[1], svc_data1[2], marker='', ls='-.' , label=\"SVM, auc=\"+str(float(\"{:.3f}\".format(svc_data1[3]))) )\n",
    "plt.plot(rf_data1[1], rf_data1[2], marker='', ls=':' , label=\"Random Forest, auc=\"+str(float(\"{:.3f}\".format(rf_data1[3]))) )\n",
    "\n",
    "\n",
    "# axis labels\n",
    "plt.xlabel('False Positive Rate')\n",
    "plt.ylabel('True Positive Rate')\n",
    "#plt.title('ROC Curve for the Models on datasets 1')\n",
    "\n",
    "plt.xlim([0.0, 1.0])\n",
    "plt.ylim([0.0, 1.05])\n",
    "# show the legend\n",
    "plt.legend()\n",
    "plt.show()\n",
    "\n"
   ]
  },
  {
   "cell_type": "markdown",
   "id": "401ed0ee-376a-4c00-9642-33136951ec01",
   "metadata": {},
   "source": [
    "### 2.12 Evaluation metrics(Accuracy, Recall, Precision and Specificity) "
   ]
  },
  {
   "cell_type": "code",
   "execution_count": 340,
   "id": "90ff6770",
   "metadata": {},
   "outputs": [
    {
     "name": "stdout",
     "output_type": "stream",
     "text": [
      "              Model  Accuracy   Recall  Precision  Specificity\n",
      "                KNN  0.757576 0.575758   0.904762     0.939394\n",
      "Logistic Regression  0.787879 0.696970   0.851852     0.878788\n",
      "                SVM  0.878788 0.848485   0.903226     0.909091\n",
      "      Random Forest  0.893939 0.878788   0.906250     0.909091\n"
     ]
    }
   ],
   "source": [
    "confusion_mtrices = [knn_data1[0], lr_data1[0], svc_data1[0], rf_data1[0]]\n",
    "\n",
    "\n",
    "model_names = [\"KNN\", \"Logistic Regression\", \"SVM\", \"Random Forest\"]\n",
    "\n",
    "# Calculate the evaluation metrics from confusion matrices threshold  0.5\n",
    "metrics = []\n",
    "\n",
    "for model_name, conf_mt in zip(model_names, confusion_mtrices):\n",
    "    \n",
    "    # Extract the true negative, false positive, false negative and true positive\n",
    "    tn, fp, fn, tp = conf_mt.ravel()\n",
    "    \n",
    "   # Calculate metrics\n",
    "    accuracy = (tp + tn) / (tp + tn + fp + fn)\n",
    "    recall = tp / (tp + fn)\n",
    "    precision = tp / (tp + fp)\n",
    "    specificity = tn / (tn + fp)\n",
    "    \n",
    "    # Append to metrics\n",
    "    metrics.append({\n",
    "        'Model': model_name,\n",
    "        'Accuracy': accuracy,\n",
    "        'Recall': recall,\n",
    "        'Precision': precision,\n",
    "        'Specificity': specificity\n",
    "        \n",
    "    })\n",
    "\n",
    " \n",
    "# Convert to a pandas DataFrame\n",
    "metrics_df1 = pd.DataFrame(metrics)\n",
    "# Print the DataFrame\n",
    "print(metrics_df1.to_string(index=False))\n"
   ]
  },
  {
   "cell_type": "code",
   "execution_count": 341,
   "id": "44a0f72c",
   "metadata": {},
   "outputs": [],
   "source": [
    "#results_df1.to_csv('metrics_df1.csv')\n"
   ]
  },
  {
   "cell_type": "code",
   "execution_count": 342,
   "id": "a0b3cfb3",
   "metadata": {},
   "outputs": [
    {
     "data": {
      "image/png": "[encoded data removed]",
      "text/plain": [
       "<Figure size 500x300 with 1 Axes>"
      ]
     },
     "metadata": {},
     "output_type": "display_data"
    }
   ],
   "source": [
    "\n",
    "\n",
    "# Set the index to 'Model' \n",
    "metrics_df1.set_index('Model', inplace=True)\n",
    "\n",
    "# Transpose the DataFrame for plotting\n",
    "metrics_df1 = metrics_df1.T\n",
    "\n",
    "# Create the grouped bar chart\n",
    "ax = metrics_df1.plot(kind='bar', figsize=(5, 3))\n",
    "\n",
    "# \n",
    "ax.set_ylabel('Score')\n",
    "#ax.set_title('Model Performance Metrics')\n",
    "plt.xticks(rotation=0)\n",
    "\n",
    "# Add legend\n",
    "plt.legend(title='Model', fontsize='small', loc='lower right')\n",
    "\n",
    "# Display the plot\n",
    "plt.show()\n"
   ]
  },
  {
   "cell_type": "code",
   "execution_count": null,
   "id": "6ca853ac",
   "metadata": {},
   "outputs": [],
   "source": []
  },
  {
   "cell_type": "markdown",
   "id": "d972047d",
   "metadata": {},
   "source": [
    "### 2.13 McNemar's Tests between KNN with other models"
   ]
  },
  {
   "cell_type": "code",
   "execution_count": 343,
   "id": "228c9854",
   "metadata": {},
   "outputs": [],
   "source": [
    "def mcnemar_test(model, true_labels,pediction_labels):\n",
    "    \n",
    "    # empty DataFrame to store the results\n",
    "    results_df = pd.DataFrame(columns=['Model 1', 'Model 2', 'p-value'])\n",
    "    \n",
    "    for i in range(4):\n",
    "        for j in range(i+1, 4):\n",
    "            model1_name = model_names[i]\n",
    "            model2_name = model_names[j]\n",
    "            model1_preds = np.array(pediction_labels[i])\n",
    "            model2_preds = np.array(pediction_labels[j])\n",
    "            \n",
    "            # Create the contingency table\n",
    "            mcnemar_table_data = mcnemar_table(y_target=np.array(true_labels), \n",
    "                                               y_model1=model1_preds, \n",
    "                                               y_model2=model2_preds)\n",
    "\n",
    "            # Calculate chi-squared & p-value\n",
    "            chi2, p = mcnemar(ary=mcnemar_table_data, corrected=True)\n",
    "\n",
    "            # Append p-value to the DataFrame\n",
    "            results_df = results_df.append({'Model 1': model1_name,\n",
    "                                            'Model 2': model2_name,\n",
    "                                            'p-value': p}, ignore_index=True)\n",
    "\n",
    "    return results_df\n"
   ]
  },
  {
   "cell_type": "code",
   "execution_count": 344,
   "id": "b3198547",
   "metadata": {},
   "outputs": [
    {
     "name": "stdout",
     "output_type": "stream",
     "text": [
      "              Model 1               Model 2  p-value\n",
      "  K-nearest neighbors   Logistic Regression 0.789268\n",
      "  K-nearest neighbors Supprt Vector Machine 0.061369\n",
      "  K-nearest neighbors         Random Forest 0.015861\n",
      "  Logistic Regression Supprt Vector Machine 0.077100\n",
      "  Logistic Regression         Random Forest 0.096092\n",
      "Supprt Vector Machine         Random Forest 1.000000\n"
     ]
    }
   ],
   "source": [
    "\n",
    "model_names = [\"K-nearest neighbors\", \"Logistic Regression\",\"Supprt Vector Machine\", \"Random Forest\"]\n",
    "pediction_labels = [knn_data1[6], lr_data1[6], svc_data1[6], rf_data1[6]]\n",
    "\n",
    "results = mcnemar_test(model_names,knn_data1[5], pediction_labels)\n",
    "\n",
    " #Display the results\n",
    "print(results.to_string(index=False))\n"
   ]
  },
  {
   "cell_type": "markdown",
   "id": "add6adef-acfe-4191-80cc-8ec4e23382fd",
   "metadata": {},
   "source": [
    "### 2.14 Train test accouracy"
   ]
  },
  {
   "cell_type": "code",
   "execution_count": 346,
   "id": "b33a6da4-a0d7-4ae4-9bf2-092c3c4c7d55",
   "metadata": {},
   "outputs": [
    {
     "name": "stdout",
     "output_type": "stream",
     "text": [
      "             models  Avg_train_acc  Avg_test_acc\n",
      "                KNN       0.838552      0.757576\n",
      "Logistic Regression       0.706599      0.787879\n",
      "                SVM       0.897166      0.893939\n",
      "      Random Forest       0.963611      0.893939\n"
     ]
    }
   ],
   "source": [
    "dict = {\"models\" : ['KNN', 'Logistic Regression', 'SVM', 'Random Forest'],\n",
    "        \"Avg_train_acc\": [np.mean(knn_data1[7]),np.mean(lr_data1[7]), np.mean(svc_data1[7]), np.mean(rf_data1[7])],        \n",
    "        \"Avg_test_acc\" : [np.mean(knn_data1[8]), np.mean(lr_data1[8]), np.mean(svc_data1[8]), np.mean(rf_data1[8])]}\n",
    " \n",
    "df = pd.DataFrame(dict)\n",
    " \n",
    "print(df.to_string(index=False))\n"
   ]
  },
  {
   "cell_type": "markdown",
   "id": "caa3f946",
   "metadata": {},
   "source": [
    "# 3 ML Model training and validation with dataset 2"
   ]
  },
  {
   "cell_type": "markdown",
   "id": "896fb889",
   "metadata": {},
   "source": [
    "### 3.1 Extract the feature matrix and the target variable"
   ]
  },
  {
   "cell_type": "code",
   "execution_count": 388,
   "id": "dec9c972",
   "metadata": {},
   "outputs": [],
   "source": [
    "X = X2_transformed\n",
    "y = data['SDS Stable']"
   ]
  },
  {
   "cell_type": "markdown",
   "id": "6aa8eb02",
   "metadata": {},
   "source": [
    "### 3.2 Balance the dataset by oversampling the minority class using SMOTE."
   ]
  },
  {
   "cell_type": "code",
   "execution_count": 389,
   "id": "c1d742aa",
   "metadata": {},
   "outputs": [
    {
     "name": "stdout",
     "output_type": "stream",
     "text": [
      "(66, 238) (66,)\n"
     ]
    },
    {
     "data": {
      "text/plain": [
       "0    33\n",
       "1    33\n",
       "Name: SDS Stable, dtype: int64"
      ]
     },
     "execution_count": 389,
     "metadata": {},
     "output_type": "execute_result"
    }
   ],
   "source": [
    "oversample = SMOTE()\n",
    "X, y = oversample.fit_resample(X, y)\n",
    "#check the shape of the data after SMOTE if it balanced the dataset\n",
    "print(X.shape,y.shape)\n",
    "y.value_counts()"
   ]
  },
  {
   "cell_type": "markdown",
   "id": "5fdefba3",
   "metadata": {},
   "source": []
  },
  {
   "cell_type": "markdown",
   "id": "ff66154f",
   "metadata": {},
   "source": [
    "### 3.3  Nested two-level cross-validation function: the outer level for model validation and the inner level for model selection, where hyperparameter tuning takes place. The number of splits in the inner and outer folds is defined. Here, Leave-One-Out is used at the level and outer level k =6 fold"
   ]
  },
  {
   "cell_type": "code",
   "execution_count": 390,
   "id": "b8cbc09e",
   "metadata": {},
   "outputs": [],
   "source": [
    "\n",
    "def two_level_cv2(model_pipeline, param_grid, X, y):\n",
    "    \n",
    "    \"\"\"\n",
    "    Inputs:\n",
    "    model_pipeline (Pipeline): ML pipeline used.\n",
    "    param_grid (dict): Hyperparameters for the pipeline.\n",
    "    X (array): Feature data.\n",
    "    y (array): Target data.\n",
    "\n",
    "    Returns:\n",
    "    confussion matrix: confussion matrix for the outer model validation whare model thereshold are set at 0.5.\n",
    "    fpr (array): False Positive Rates determined from models predicted probability and actual class.\n",
    "    tpr (array): True Positive Rates determined from models predicted probability and actual class.\n",
    "    roc_auc (float): Area Under the ROC Curve determined from models predicted probability and actual class derived fpr and tpr.\n",
    "    true_labels:Actual Class label of the data point\n",
    "    pred_labels: Predicted class level of the data point at a threshold 0.5.\n",
    "    inner_cv_train_acc: inner grid mean tranning accuracy\n",
    "    test_acc: test accouracy \n",
    "    \n",
    "    \"\"\"  \n",
    "    # Initiate the outer level k fold = 6 \n",
    "    k= 6\n",
    "    outer_cv = KFold(n_splits=k, shuffle=True, random_state=42)\n",
    "      \n",
    "    #define the empty lists to stor result \n",
    "    true_labels = []\n",
    "    prediction_probs = []\n",
    "    feature_imp = []\n",
    "    inner_cv_train_acc = []\n",
    "    test_acc = []\n",
    "    \n",
    "    # Splitting the dataset into training and testing for the outer loop\n",
    "    for train_index, test_index in outer_cv.split(X):\n",
    "        X_train, X_test = X[train_index], X[test_index]\n",
    "        y_train, y_test = y[train_index], y[test_index]\n",
    "\n",
    "  \n",
    "        # Initiate the inner level Leave-One-Out loop\n",
    "        inner_loo = LeaveOneOut()\n",
    "\n",
    "\n",
    "        # GridSearchCV for hyperparameter tuning and finding the best model with that in the inner loop\n",
    "        inner_grid = GridSearchCV(estimator=model_pipeline, param_grid=param_grid, cv=inner_loo, n_jobs=-1, return_train_score=True)\n",
    "        \n",
    "        #fit the GridSearchCV on the training data of the split \n",
    "        inner_grid.fit(X_train, y_train)\n",
    "\n",
    "        # Find the best model from inner loop with the gridsearch perameter \".best_estimator_\" for the split data\n",
    "        best_model = inner_grid.best_estimator_\n",
    "         \n",
    "        # Find the prediction probabilities of the model on positive class on the test data of the split\n",
    "        probabilities = best_model.predict_proba(X_test)[:, 1]\n",
    "            \n",
    "        # Store the actual labels of the test data in for the split \n",
    "        true_labels.extend(y_test)\n",
    "        \n",
    "        #store the predicted probability of the class for the positive class for the test data point of that split\n",
    "        prediction_probs.extend(probabilities)\n",
    "        \n",
    "  \n",
    "        # get the mean tranning accouracy in the inner loop \n",
    "        inner_avg_train_accuracy = np.mean(inner_grid.cv_results_['mean_train_score'])\n",
    "        \n",
    "        #Store the mean tranning accouracy found in the inner loop \n",
    "        inner_cv_train_acc.append(inner_avg_train_accuracy)\n",
    "        \n",
    "        # get the test accouracy in the inner loop \n",
    "        test_accuracy = accuracy_score(y_test, best_model.predict(X_test))\n",
    "        # Store test accouracy in the inner loop \n",
    "        test_acc.append(test_accuracy)\n",
    "\n",
    "\n",
    "    #calculating the fpr and tpr from from actual labels and  predicted probability\n",
    "    fpr, tpr, _ = roc_curve(true_labels, prediction_probs)\n",
    "    \n",
    "    #find the area under the curve(auc)\n",
    "    roc_auc = auc(fpr, tpr)\n",
    "    \n",
    "    #Convert the predicted probablity into class with the threshold 0.5 \n",
    "    pred_labels = [1 if p > 0.5 else 0 for p in prediction_probs]\n",
    "\n",
    "    #find the confussion matrix at threshold 0.5\n",
    "    conf_matrix = confusion_matrix(true_labels, [1 if p > 0.5 else 0 for p in prediction_probs])\n",
    "\n",
    "    #returans all the findinds\n",
    "    return conf_matrix, fpr, tpr, roc_auc,true_labels,pred_labels,inner_cv_train_acc,test_acc\n"
   ]
  },
  {
   "cell_type": "markdown",
   "id": "0101b313",
   "metadata": {},
   "source": [
    "### 3.4  K-Nearest Neighbors"
   ]
  },
  {
   "cell_type": "markdown",
   "id": "1120bff9",
   "metadata": {},
   "source": [
    "###  Define the pipeline, hyperparameter grid, and determine the results of various validation metrics using two-level cross-validation."
   ]
  },
  {
   "cell_type": "code",
   "execution_count": 391,
   "id": "f460fd11",
   "metadata": {},
   "outputs": [],
   "source": [
    "# Define the pipeline for KNN\n",
    "knn_pipeline = Pipeline([\n",
    "    ('knn', KNeighborsClassifier())\n",
    "])\n",
    "# Define parameter grid for KNN\n",
    "knn_param_grid = {\n",
    "    \n",
    "    'knn__n_neighbors': np.arange(3, 6),\n",
    "    'knn__p': [1],\n",
    "    'knn__metric': ['euclidean', 'manhattan']\n",
    "}\n",
    "\n",
    "\n",
    "\n",
    "# Call the  knn_2_level_cv funcation with pipeline, hyperperameter and data\n",
    "knn_data2 = two_level_cv2(knn_pipeline, knn_param_grid, X, y)\n"
   ]
  },
  {
   "cell_type": "code",
   "execution_count": 392,
   "id": "6721979b",
   "metadata": {},
   "outputs": [
    {
     "data": {
      "text/plain": [
       "(0.647334455667789, 0.4696969696969697)"
      ]
     },
     "execution_count": 392,
     "metadata": {},
     "output_type": "execute_result"
    }
   ],
   "source": [
    "np.mean(knn_data2[6]),np.mean(knn_data2[7])"
   ]
  },
  {
   "cell_type": "code",
   "execution_count": null,
   "id": "4338ef95",
   "metadata": {},
   "outputs": [],
   "source": []
  },
  {
   "cell_type": "markdown",
   "id": "8d490606",
   "metadata": {},
   "source": [
    "### 3.5 Logistic Regression"
   ]
  },
  {
   "cell_type": "markdown",
   "id": "088dfbbb",
   "metadata": {},
   "source": [
    "### Define the pipeline, hyperparameter grid, and determine the results of various validation metrics using two-level cross-validation."
   ]
  },
  {
   "cell_type": "code",
   "execution_count": 393,
   "id": "fe32688d",
   "metadata": {},
   "outputs": [],
   "source": [
    "# Define the pipeline for Logistic Regression\n",
    "lr_pipeline = Pipeline([('scaler', StandardScaler()),                         \n",
    "                        ('lr', LogisticRegression( solver='liblinear', max_iter=5000))])\n",
    "\n",
    "# Define parameter grid for Logistic Regression\n",
    "lr_param_grid = {\n",
    "    'lr__penalty': ['l1', 'l2'],\n",
    "    'lr__C': np.logspace(-4, 1, 10)\n",
    "}\n",
    "\n",
    "#LogisticRegression(solver='saga', max_iter=5000, random_state=42)\n",
    "\n",
    "# Call the  lr_2_level_cv funcation with pipeline, hyperperameter and data\n",
    "lr_data2 = two_level_cv2(lr_pipeline, lr_param_grid, X, y)\n"
   ]
  },
  {
   "cell_type": "code",
   "execution_count": 394,
   "id": "67ebd632",
   "metadata": {},
   "outputs": [],
   "source": [
    "#lr_data2"
   ]
  },
  {
   "cell_type": "code",
   "execution_count": 434,
   "id": "e49c2718",
   "metadata": {},
   "outputs": [],
   "source": [
    "#np.mean(lr_data2[6]),np.mean(lr_data2[7])"
   ]
  },
  {
   "cell_type": "markdown",
   "id": "52586c55",
   "metadata": {},
   "source": [
    "### 3.6 Support Vector Machine"
   ]
  },
  {
   "cell_type": "markdown",
   "id": "718db7a9",
   "metadata": {},
   "source": [
    "### Define the pipeline, hyperparameter grid, and determine the results of various validation metrics using two-level cross-validation."
   ]
  },
  {
   "cell_type": "code",
   "execution_count": 396,
   "id": "668eb334",
   "metadata": {},
   "outputs": [],
   "source": [
    "# Define the pipeline for SVC\n",
    "svc_pipeline = Pipeline([\n",
    "    ('scaler', StandardScaler()),\n",
    "    ('svc', SVC())\n",
    "])\n",
    "\n",
    "# Define parameter grid for SVC\n",
    "svc_param_grid = {\n",
    "    # Specify the values for the kernel\n",
    "\n",
    "\n",
    "    'svc__C': list(range(1, 7)),\n",
    "    'svc__kernel':[\"rbf\"],\n",
    "    'svc__probability': [True]\n",
    "\n",
    "}\n",
    "\n",
    "# Call the  svc_returns_data1 funcation with pipeline, hyperperameter and data\n",
    "svc_data2 = two_level_cv2(svc_pipeline, svc_param_grid, X, y)\n"
   ]
  },
  {
   "cell_type": "code",
   "execution_count": 435,
   "id": "ae954221",
   "metadata": {},
   "outputs": [],
   "source": [
    "#np.mean(svc_data2[6]),np.mean(svc_data2[7])"
   ]
  },
  {
   "cell_type": "markdown",
   "id": "7c82f92d",
   "metadata": {},
   "source": [
    "###  3.7 Random Forest"
   ]
  },
  {
   "cell_type": "markdown",
   "id": "04d054bb",
   "metadata": {},
   "source": [
    "### Define the pipeline, hyperparameter grid, and determine the results of various validation metrics using two-level cross-validation."
   ]
  },
  {
   "cell_type": "code",
   "execution_count": 398,
   "id": "39691261",
   "metadata": {},
   "outputs": [],
   "source": [
    "# Define the pipeline for Random Forest\n",
    "\n",
    "rf_pipeline = Pipeline([('scaler', StandardScaler()),    \n",
    "                        ('rf', RandomForestClassifier(bootstrap=True, oob_score=True, criterion='gini', random_state=42))])\n",
    "\n",
    "# Define parameter grid for Random Forest\n",
    "rf_param_grid = {\n",
    "    'rf__max_depth': range(2, 5),\n",
    "    'rf__max_features': range(3, 7)\n",
    "}\n",
    "\n",
    "# Call the  svc_returns_data1 funcation with pipeline, hyperperameter and data\n",
    "rf_data2 = two_level_cv2(rf_pipeline, rf_param_grid, X, y)\n"
   ]
  },
  {
   "cell_type": "code",
   "execution_count": 399,
   "id": "9aac7d58",
   "metadata": {},
   "outputs": [
    {
     "data": {
      "text/plain": [
       "(0.9653900112233443, 0.5757575757575758)"
      ]
     },
     "execution_count": 399,
     "metadata": {},
     "output_type": "execute_result"
    }
   ],
   "source": [
    "np.mean(rf_data2[6]),np.mean(rf_data2[7])"
   ]
  },
  {
   "cell_type": "markdown",
   "id": "ce8acc01",
   "metadata": {},
   "source": [
    "### 3.8 Confusion matrix for the Models applying on dataset 1"
   ]
  },
  {
   "cell_type": "code",
   "execution_count": 400,
   "id": "e2ec2576",
   "metadata": {},
   "outputs": [
    {
     "data": {
      "image/png": "[encoded data removed]",
      "text/plain": [
       "<Figure size 1600x800 with 4 Axes>"
      ]
     },
     "metadata": {},
     "output_type": "display_data"
    }
   ],
   "source": [
    "plot_confusion_matrices(knn_data2[0],lr_data2[0],svc_data2[0],rf_data2[0])"
   ]
  },
  {
   "cell_type": "markdown",
   "id": "fd6e3230",
   "metadata": {},
   "source": [
    "### 3.9 Roc curve for the models applying on dataset 2"
   ]
  },
  {
   "cell_type": "code",
   "execution_count": 401,
   "id": "cd0e7aaa",
   "metadata": {},
   "outputs": [
    {
     "data": {
      "image/png": "[encoded data removed]",
      "text/plain": [
       "<Figure size 600x400 with 1 Axes>"
      ]
     },
     "metadata": {},
     "output_type": "display_data"
    }
   ],
   "source": [
    "# plot the roc curve for the model\n",
    "plt.figure(figsize=(6, 4))\n",
    "\n",
    "plt.plot(knn_data2[1], knn_data2[2], marker='', ls='-' , label=\"KNN, auc=\"+str(float(\"{:.3f}\".format(knn_data2[3]))) )\n",
    "plt.plot(lr_data2[1], lr_data2[2], marker='', ls='--' , label=\"Logistic Regression, auc=\"+str(float(\"{:.3f}\".format(lr_data2[3]))) )\n",
    "plt.plot(svc_data2[1], svc_data2[2], marker='', ls='-.' , label=\"SVM, auc=\"+str(float(\"{:.3f}\".format(svc_data2[3]))) )\n",
    "plt.plot(rf_data2[1], rf_data2[2], marker='', ls=':' , label=\"Random Forest, auc=\"+str(float(\"{:.3f}\".format(rf_data2[3]))) )\n",
    "\n",
    "\n",
    "# axis labels\n",
    "plt.xlabel('False Positive Rate')\n",
    "plt.ylabel('True Positive Rate')\n",
    "# plt.title('ROC Curvefor Models on datasets 2')\n",
    "\n",
    "plt.xlim([0.0, 1.0])\n",
    "plt.ylim([0.0, 1.05])\n",
    "# show the legend\n",
    "plt.legend()\n",
    "# show the plot\n",
    "plt.show()\n",
    "# magnima test \n",
    "\n"
   ]
  },
  {
   "cell_type": "markdown",
   "id": "81a2b745-4c68-444e-90f7-46fedd5e57dd",
   "metadata": {},
   "source": [
    "### 3.10 Evaluation metrics(Accuracy, Recall, Precision and Specificity)"
   ]
  },
  {
   "cell_type": "code",
   "execution_count": 402,
   "id": "696cafc8",
   "metadata": {},
   "outputs": [
    {
     "name": "stdout",
     "output_type": "stream",
     "text": [
      "              Model  Accuracy   Recall  Precision  Specificity\n",
      "                KNN  0.469697 0.090909   0.375000     0.848485\n",
      "Logistic Regression  0.681818 0.666667   0.687500     0.696970\n",
      "                SVM  0.636364 0.545455   0.666667     0.727273\n",
      "      Random Forest  0.575758 0.515152   0.586207     0.636364\n"
     ]
    }
   ],
   "source": [
    "confusion_mtrices = [knn_data2[0], lr_data2[0], svc_data2[0], rf_data2[0]]\n",
    "model_names = [\"KNN\", \"Logistic Regression\", \"SVM\", \"Random Forest\"]\n",
    "\n",
    "# Calculate the evaluation metrics from confusion matrices threshold  0.5\n",
    "metrics2 = []\n",
    "\n",
    "for model_name, conf_mt in zip(model_names, confusion_mtrices):\n",
    "    \n",
    "    # Extract the true negative, false positive, false negative and true positive\n",
    "    tn, fp, fn, tp = conf_mt.ravel()\n",
    "    \n",
    "   # Calculate metrics\n",
    "    accuracy = (tp + tn) / (tp + tn + fp + fn)\n",
    "    recall = tp / (tp + fn)\n",
    "    precision = tp / (tp + fp)\n",
    "    specificity = tn / (tn + fp)\n",
    "    \n",
    "    # Append to metrics\n",
    "    metrics2.append({\n",
    "        'Model': model_name,\n",
    "        'Accuracy': accuracy,\n",
    "        'Recall': recall,\n",
    "        'Precision': precision,\n",
    "        'Specificity': specificity\n",
    "        \n",
    "    })\n",
    "\n",
    " \n",
    "# Convert to a pandas DataFrame\n",
    "metrics_df2 = pd.DataFrame(metrics2)\n",
    "# Print the DataFrame\n",
    "print(metrics_df2.to_string(index=False))\n"
   ]
  },
  {
   "cell_type": "code",
   "execution_count": 403,
   "id": "c1624817",
   "metadata": {},
   "outputs": [],
   "source": [
    "#results_df12.to_csv('result_df2.csv')\n"
   ]
  },
  {
   "cell_type": "code",
   "execution_count": 404,
   "id": "b479b955",
   "metadata": {},
   "outputs": [
    {
     "data": {
      "image/png": "[encoded data removed]",
      "text/plain": [
       "<Figure size 500x300 with 1 Axes>"
      ]
     },
     "metadata": {},
     "output_type": "display_data"
    }
   ],
   "source": [
    "\n",
    "# Set the index to 'Model' \n",
    "metrics_df2.set_index('Model', inplace=True)\n",
    "\n",
    "# Transpose the DataFrame for plotting\n",
    "metrics_df2 = metrics_df2.T\n",
    "\n",
    "# Create the grouped bar chart\n",
    "ax = metrics_df2.plot(kind='bar', figsize=(5, 3))\n",
    "\n",
    "# \n",
    "ax.set_ylabel('Score')\n",
    "#ax.set_title('Model Performance Metrics')\n",
    "plt.xticks(rotation=0)\n",
    "\n",
    "# Add legend\n",
    "plt.legend(title='Model', fontsize='small', loc='upper right')\n",
    "\n",
    "# Display the plot\n",
    "plt.show()\n",
    "\n"
   ]
  },
  {
   "cell_type": "markdown",
   "id": "03c904a3",
   "metadata": {},
   "source": [
    "### 3.11 McNemar's Tests between KNN with other models"
   ]
  },
  {
   "cell_type": "code",
   "execution_count": 405,
   "id": "d0868492",
   "metadata": {},
   "outputs": [
    {
     "name": "stdout",
     "output_type": "stream",
     "text": [
      "              Model 1               Model 2  p-value\n",
      "  K-nearest neighbors   Logistic Regression 0.010787\n",
      "  K-nearest neighbors Supprt Vector Machine 0.021781\n",
      "  K-nearest neighbors         Random Forest 0.190430\n",
      "  Logistic Regression Supprt Vector Machine 0.546494\n",
      "  Logistic Regression         Random Forest 0.045500\n",
      "Supprt Vector Machine         Random Forest 0.288844\n"
     ]
    }
   ],
   "source": [
    "\n",
    "def mcnemar_test(model, true_labels,pediction_labels):\n",
    "    \n",
    "    # empty DataFrame to store the results\n",
    "    results_df = pd.DataFrame(columns=['Model 1', 'Model 2', 'p-value'])\n",
    "    \n",
    "    for i in range(4):\n",
    "        for j in range(i+1, 4):\n",
    "            model1_name = model_names[i]\n",
    "            model2_name = model_names[j]\n",
    "            model1_preds = np.array(pediction_labels[i])\n",
    "            model2_preds = np.array(pediction_labels[j])\n",
    "            \n",
    "            # Create the contingency table\n",
    "            mcnemar_table_data = mcnemar_table(y_target=np.array(true_labels), \n",
    "                                               y_model1=model1_preds, \n",
    "                                               y_model2=model2_preds)\n",
    "\n",
    "            # Calculate chi-squared & p-value\n",
    "            chi2, p = mcnemar(ary=mcnemar_table_data, corrected=True)\n",
    "\n",
    "            # Append p-value to the DataFrame\n",
    "            results_df = results_df.append({'Model 1': model1_name,\n",
    "                                            'Model 2': model2_name,\n",
    "                                            'p-value': p}, ignore_index=True)\n",
    "\n",
    "    return results_df\n",
    "\n",
    "model_names = [\"K-nearest neighbors\", \"Logistic Regression\",\"Supprt Vector Machine\", \"Random Forest\"]\n",
    "pediction_labels = [knn_data2[5], lr_data2[5], svc_data2[5], rf_data2[5]]\n",
    "\n",
    "results2 = mcnemar_test(model_names,knn_data2[4], pediction_labels)\n",
    "\n",
    "print(results2.to_string(index=False))\n"
   ]
  },
  {
   "cell_type": "markdown",
   "id": "e74b1487",
   "metadata": {},
   "source": [
    "### 3.12 Train test accouracy"
   ]
  },
  {
   "cell_type": "code",
   "execution_count": 406,
   "id": "859dc227-97ca-4499-9fd0-cf7ce9defb99",
   "metadata": {},
   "outputs": [
    {
     "name": "stdout",
     "output_type": "stream",
     "text": [
      "             models  Avg_train_acc  Avg_test_acc\n",
      "                KNN       0.674027      0.469697\n",
      "Logistic Regression       0.807581      0.696970\n",
      "                SVM       0.945230      0.666667\n",
      "      Random Forest       0.996493      0.712121\n"
     ]
    }
   ],
   "source": [
    "dict2 = {\"models\" : ['KNN', 'Logistic Regression', 'SVM', 'Random Forest'],\n",
    "        \"Avg_train_acc\": [np.mean(knn_data2[6]),np.mean(lr_data2[6]), np.mean(svc_data2[6]), np.mean(rf_data2[6])],        \n",
    "        \"Avg_test_acc\" : [np.mean(knn_data2[7]), np.mean(lr_data2[7]), np.mean(svc_data2[7]), np.mean(rf_data2[7])]}\n",
    " \n",
    "df2 = pd.DataFrame(dict)\n",
    " \n",
    "print(df2.to_string(index=False))\n"
   ]
  },
  {
   "cell_type": "markdown",
   "id": "985100d4",
   "metadata": {},
   "source": [
    "# 4 ML Model training and validation with dataset 3"
   ]
  },
  {
   "cell_type": "markdown",
   "id": "b05039e6",
   "metadata": {},
   "source": [
    "### 4.1 Extract the feature matrix and the target variable"
   ]
  },
  {
   "cell_type": "code",
   "execution_count": 407,
   "id": "6bc27977",
   "metadata": {},
   "outputs": [],
   "source": [
    "X = X2_transformed3\n",
    "y = data['SDS Stable']"
   ]
  },
  {
   "cell_type": "code",
   "execution_count": 408,
   "id": "98b7f212",
   "metadata": {},
   "outputs": [
    {
     "data": {
      "text/plain": [
       "(51, 238)"
      ]
     },
     "execution_count": 408,
     "metadata": {},
     "output_type": "execute_result"
    }
   ],
   "source": [
    "X.shape"
   ]
  },
  {
   "cell_type": "markdown",
   "id": "213b56fb",
   "metadata": {},
   "source": [
    "### 4.2 Balance the dataset by oversampling the minority class using SMOTE"
   ]
  },
  {
   "cell_type": "code",
   "execution_count": 409,
   "id": "d7af6f81",
   "metadata": {},
   "outputs": [
    {
     "name": "stdout",
     "output_type": "stream",
     "text": [
      "(66, 238) (66,)\n"
     ]
    },
    {
     "data": {
      "text/plain": [
       "0    33\n",
       "1    33\n",
       "Name: SDS Stable, dtype: int64"
      ]
     },
     "execution_count": 409,
     "metadata": {},
     "output_type": "execute_result"
    }
   ],
   "source": [
    "oversample = SMOTE()\n",
    "X, y = oversample.fit_resample(X, y)\n",
    "#check the shape of the data after SMOTE if it balanced the dataset\n",
    "print(X.shape,y.shape)\n",
    "y.value_counts()"
   ]
  },
  {
   "cell_type": "markdown",
   "id": "6eca4403",
   "metadata": {},
   "source": [
    "### 4.3 Nested two-level cross-validation function: the outer level for model validation and the inner level for model selection, where hyperparameter tuning takes place. The number of splits in the inner and outer folds is defined. Here, Leave-One-Out is used at the level and outer level k =6 fold"
   ]
  },
  {
   "cell_type": "code",
   "execution_count": 410,
   "id": "6d161322",
   "metadata": {},
   "outputs": [],
   "source": [
    "\n",
    "def two_level_cv3(model_pipeline, param_grid, X, y):\n",
    "    \n",
    "    \"\"\"\n",
    "    Inputs:\n",
    "    model_pipeline (Pipeline): ML pipeline used.\n",
    "    param_grid (dict): Hyperparameters for the pipeline.\n",
    "    X (array): Feature data.\n",
    "    y (array): Target data.\n",
    "\n",
    "    Returns:\n",
    "    confussion matrix: confussion matrix for the outer model validation whare model thereshold are set at 0.5.\n",
    "    fpr (array): False Positive Rates determined from models predicted probability and actual class.\n",
    "    tpr (array): True Positive Rates determined from models predicted probability and actual class.\n",
    "    roc_auc (float): Area Under the ROC Curve determined from models predicted probability and actual class derived fpr and tpr.\n",
    "    true_labels:Actual Class label of the data point\n",
    "    pred_labels: Predicted class level of the data point at a threshold 0.5.\n",
    "    inner_cv_train_acc: inner grid mean tranning accuracy\n",
    "    test_acc: test accouracy \n",
    "    \n",
    "    \"\"\"  \n",
    "    \n",
    "    # Initiate the outer level k fold = 6 \n",
    "    k= 6\n",
    "    outer_cv = KFold(n_splits=k, shuffle=True, random_state=42)\n",
    "    \n",
    "    #define the empty lists to stor result \n",
    "    \n",
    "    true_labels = []\n",
    "    prediction_probs = []\n",
    "    feature_imp = []\n",
    "    inner_cv_train_acc = []\n",
    "    test_acc = []\n",
    "    \n",
    "    # Splitting the dataset into training and testing for the outer loop\n",
    "    for train_index, test_index in outer_cv.split(X):\n",
    "        X_train, X_test = X[train_index], X[test_index]\n",
    "        y_train, y_test = y[train_index], y[test_index]\n",
    "        \n",
    "         # Initiate the inner level Leave-One-Out loop\n",
    "        inner_loo = LeaveOneOut()\n",
    "\n",
    "\n",
    "        # GridSearchCV for hyperparameter tuning and finding the best model with that in the inner loop\n",
    "        inner_grid = GridSearchCV(estimator=model_pipeline, param_grid=param_grid, cv=inner_loo, n_jobs=-1, return_train_score=True)\n",
    "        \n",
    "        #fit the GridSearchCV on the training data of the split \n",
    "        inner_grid.fit(X_train, y_train)\n",
    "\n",
    "        # Find the best model from inner loop with the gridsearch perameter \".best_estimator_\" for the split data\n",
    "        best_model = inner_grid.best_estimator_\n",
    "         \n",
    "        # Find the prediction probabilities of the model on positive class on the test data of the split\n",
    "        probabilities = best_model.predict_proba(X_test)[:, 1]\n",
    "            \n",
    "        # Store the actual labels of the test data in for the split \n",
    "        true_labels.extend(y_test)\n",
    "        \n",
    "        #store the predicted probability of the class for the positive class for the test data point of that split\n",
    "        prediction_probs.extend(probabilities)\n",
    "        \n",
    "  \n",
    "        # get the mean tranning accouracy in the inner loop \n",
    "        inner_avg_train_accuracy = np.mean(inner_grid.cv_results_['mean_train_score'])\n",
    "        \n",
    "        #Store the mean tranning accouracy found in the inner loop \n",
    "        inner_cv_train_acc.append(inner_avg_train_accuracy)\n",
    "        \n",
    "        # get the test accouracy in the inner loop \n",
    "        test_accuracy = accuracy_score(y_test, best_model.predict(X_test))\n",
    "        # Store test accouracy in the inner loop \n",
    "        test_acc.append(test_accuracy)\n",
    "\n",
    "\n",
    "    #calculating the fpr and tpr from from actual labels and  predicted probability\n",
    "    fpr, tpr, _ = roc_curve(true_labels, prediction_probs)\n",
    "    \n",
    "    #find the area under the curve(auc)\n",
    "    roc_auc = auc(fpr, tpr)\n",
    "    \n",
    "    #Convert the predicted probablity into class with the threshold 0.5 \n",
    "    pred_labels = [1 if p > 0.5 else 0 for p in prediction_probs]\n",
    "\n",
    "    #find the confussion matrix at threshold 0.5\n",
    "    conf_matrix = confusion_matrix(true_labels, [1 if p > 0.5 else 0 for p in prediction_probs])\n",
    "\n",
    "    #returans all the findinds\n",
    "    return conf_matrix, fpr, tpr, roc_auc,true_labels,pred_labels,inner_cv_train_acc,test_acc\n"
   ]
  },
  {
   "cell_type": "markdown",
   "id": "12271274-d4cf-4adb-b592-4f7f1ebf3089",
   "metadata": {},
   "source": [
    "### 4.4  K-Nearest Neighbors"
   ]
  },
  {
   "cell_type": "markdown",
   "id": "8d17f756",
   "metadata": {},
   "source": [
    "### Define the pipeline, hyperparameter grid, and determine the results of various validation metrics using two-level cross-validation."
   ]
  },
  {
   "cell_type": "code",
   "execution_count": 411,
   "id": "d3d6e20c-1517-45ab-87f7-3d2961fd4ed5",
   "metadata": {},
   "outputs": [],
   "source": [
    "# Define the pipeline for KNN\n",
    "knn_pipeline = Pipeline([('scaler', StandardScaler()),\n",
    "                       \n",
    "                         ('knn', KNeighborsClassifier())])\n",
    "# Define parameter grid for KNN\n",
    "knn_param_grid = {\n",
    "\n",
    "    \n",
    "    'knn__n_neighbors': np.arange(3, 6),\n",
    "    'knn__p': [1],\n",
    "    'knn__metric': ['euclidean', 'manhattan']\n",
    "}\n",
    "\n",
    "\n",
    "\n",
    "# Call the  knn_2_level_cv funcation with pipeline, hyperperameter and data\n",
    "knn_data3 = two_level_cv3(knn_pipeline, knn_param_grid, X, y)\n"
   ]
  },
  {
   "cell_type": "code",
   "execution_count": 412,
   "id": "3129616f",
   "metadata": {},
   "outputs": [],
   "source": [
    "#knn_data3"
   ]
  },
  {
   "cell_type": "code",
   "execution_count": 436,
   "id": "c25275b0",
   "metadata": {},
   "outputs": [],
   "source": [
    "#np.mean(knn_data3[6]),np.mean(knn_data3[7])"
   ]
  },
  {
   "cell_type": "markdown",
   "id": "8486b590",
   "metadata": {},
   "source": [
    "### 4.5 Logistic Regression"
   ]
  },
  {
   "cell_type": "markdown",
   "id": "7c4add4f",
   "metadata": {},
   "source": [
    "### Define the pipeline, hyperparameter grid, and determine the results of various validation metrics using two-level cross-validation."
   ]
  },
  {
   "cell_type": "code",
   "execution_count": 414,
   "id": "4a195a0d",
   "metadata": {},
   "outputs": [],
   "source": [
    "# Define the pipeline for Logistic Regression\n",
    "lr_pipeline = Pipeline([('scaler', StandardScaler()),                         \n",
    "                 \n",
    "                        ('lr', LogisticRegression( solver='liblinear', max_iter=5000))])\n",
    "\n",
    "# Define parameter grid for Logistic Regression\n",
    "lr_param_grid = {\n",
    "    'lr__penalty': ['l1', 'l2'],\n",
    "    'lr__C': np.logspace(-4, 1, 10)\n",
    "}\n",
    "\n",
    "\n",
    "# Call the  lr_2_level_cv funcation with pipeline, hyperperameter and data\n",
    "lr_data3 = two_level_cv3(lr_pipeline, lr_param_grid, X, y)\n"
   ]
  },
  {
   "cell_type": "code",
   "execution_count": 415,
   "id": "b975a9e7",
   "metadata": {},
   "outputs": [],
   "source": [
    "#lr_data3"
   ]
  },
  {
   "cell_type": "code",
   "execution_count": 437,
   "id": "2ca4e86e",
   "metadata": {},
   "outputs": [],
   "source": [
    "#np.mean(lr_data3[6]),np.mean(lr_data3[7])"
   ]
  },
  {
   "cell_type": "markdown",
   "id": "24790c6c",
   "metadata": {},
   "source": [
    "### 4.6 Support Vector Machine"
   ]
  },
  {
   "cell_type": "markdown",
   "id": "a5b4834f",
   "metadata": {},
   "source": [
    "### Define the pipeline, hyperparameter grid, and determine the results of various validation metrics using two-level cross-validation."
   ]
  },
  {
   "cell_type": "code",
   "execution_count": 417,
   "id": "263b44a6",
   "metadata": {},
   "outputs": [],
   "source": [
    "# Define the pipeline for SVC\n",
    "svc_pipeline = Pipeline([\n",
    "    ('scaler', StandardScaler()),\n",
    "    ('svc', SVC())\n",
    "])\n",
    "\n",
    "# Define parameter grid for SVC\n",
    "svc_param_grid = {\n",
    "    # Specify the values for the model\n",
    "    'svc__C': list(range(1, 7)),\n",
    "    'svc__kernel':[\"rbf\"],\n",
    "    'svc__probability': [True]\n",
    "}\n",
    "\n",
    "# Call the  svc_returns_data1 funcation with pipeline, hyperperameter and data\n",
    "svc_data3 = two_level_cv3(svc_pipeline, svc_param_grid, X, y)\n"
   ]
  },
  {
   "cell_type": "code",
   "execution_count": 418,
   "id": "12a9b52c",
   "metadata": {},
   "outputs": [],
   "source": [
    "#svc_data3"
   ]
  },
  {
   "cell_type": "code",
   "execution_count": 419,
   "id": "f52ef96e",
   "metadata": {},
   "outputs": [
    {
     "data": {
      "text/plain": [
       "(0.943462401795735, 0.712121212121212)"
      ]
     },
     "execution_count": 419,
     "metadata": {},
     "output_type": "execute_result"
    }
   ],
   "source": [
    "np.mean(svc_data3[6]),np.mean(svc_data3[7])"
   ]
  },
  {
   "cell_type": "markdown",
   "id": "29791486",
   "metadata": {},
   "source": [
    "### 4.7 Random Forest"
   ]
  },
  {
   "cell_type": "markdown",
   "id": "66c29342",
   "metadata": {},
   "source": [
    "### Define the pipeline, hyperparameter grid, and determine the results of various validation metrics using two-level cross-validation."
   ]
  },
  {
   "cell_type": "code",
   "execution_count": 420,
   "id": "bd008dce",
   "metadata": {},
   "outputs": [],
   "source": [
    "# Define the pipeline for Random Forest\n",
    "#\n",
    "rf_pipeline = Pipeline([('scaler', StandardScaler()),    \n",
    "                        ('rf', RandomForestClassifier(bootstrap=True, oob_score=True, criterion='gini', random_state=42))])\n",
    "\n",
    "# Define parameter grid for Random Forest\n",
    "rf_param_grid = {\n",
    "    'rf__max_depth': [3,4],\n",
    "    'rf__max_features': [3,4,5,6,7,9,11]\n",
    "}\n",
    "\n",
    "# Call the  svc_returns_data1 funcation with pipeline, hyperperameter and data\n",
    "rf_data3 = two_level_cv3(rf_pipeline, rf_param_grid, X, y)\n"
   ]
  },
  {
   "cell_type": "code",
   "execution_count": 421,
   "id": "72db64e4",
   "metadata": {},
   "outputs": [
    {
     "data": {
      "text/plain": [
       "(0.9985610068943402, 0.6969696969696969)"
      ]
     },
     "execution_count": 421,
     "metadata": {},
     "output_type": "execute_result"
    }
   ],
   "source": [
    "np.mean(rf_data3[6]),np.mean(rf_data3[7])"
   ]
  },
  {
   "cell_type": "markdown",
   "id": "cc50fdeb-4c2c-4baf-a439-3a6705fa1dab",
   "metadata": {},
   "source": [
    "### 4.8 Confusion matrix for the Models applying on dataset 3"
   ]
  },
  {
   "cell_type": "code",
   "execution_count": 422,
   "id": "b98a8fbc",
   "metadata": {},
   "outputs": [
    {
     "data": {
      "image/png": "[encoded data removed]",
      "text/plain": [
       "<Figure size 1600x800 with 4 Axes>"
      ]
     },
     "metadata": {},
     "output_type": "display_data"
    }
   ],
   "source": [
    "plot_confusion_matrices(knn_data3[0],lr_data3[0],svc_data3[0],rf_data3[0])"
   ]
  },
  {
   "cell_type": "markdown",
   "id": "935067e9",
   "metadata": {},
   "source": [
    "### 4.9 Roc curve for the models applying on dataset 3"
   ]
  },
  {
   "cell_type": "code",
   "execution_count": 423,
   "id": "2f045d84",
   "metadata": {},
   "outputs": [
    {
     "data": {
      "image/png": "[encoded data removed]",
      "text/plain": [
       "<Figure size 600x400 with 1 Axes>"
      ]
     },
     "metadata": {},
     "output_type": "display_data"
    }
   ],
   "source": [
    "# plot the roc curve for the model\n",
    "plt.figure(figsize=(6, 4))\n",
    "\n",
    "plt.plot(knn_data3[1], knn_data3[2], marker='', ls='-' , label=\"KNN, auc=\"+str(float(\"{:.3f}\".format(knn_data3[3]))) )\n",
    "plt.plot(lr_data3[1], lr_data3[2], marker='', ls='--' , label=\"Logistic Regression, auc=\"+str(float(\"{:.3f}\".format(lr_data3[3]))) )\n",
    "plt.plot(svc_data3[1], svc_data3[2], marker='', ls='-.' , label=\"SVM, auc=\"+str(float(\"{:.3f}\".format(svc_data3[3]))) )\n",
    "plt.plot(rf_data3[1], rf_data3[2], marker='', ls=':' , label=\"Random Forest, auc=\"+str(float(\"{:.3f}\".format(rf_data3[3]))) )\n",
    "\n",
    "\n",
    "# axis labels\n",
    "plt.xlabel('False Positive Rate')\n",
    "plt.ylabel('True Positive Rate')\n",
    "# plt.title('ROC Curvefor Models on datasets 2')\n",
    "\n",
    "plt.xlim([0.0, 1.0])\n",
    "plt.ylim([0.0, 1.05])\n",
    "# show the legend\n",
    "plt.legend()\n",
    "# show the plot\n",
    "plt.show()\n",
    "# magnima test \n",
    "\n"
   ]
  },
  {
   "cell_type": "markdown",
   "id": "76b6e299-c5be-4c49-8f21-bffa9d09a8e8",
   "metadata": {},
   "source": [
    "### 4.10 Evaluation metrics(Accuracy, Recall, Precision and Specificity)"
   ]
  },
  {
   "cell_type": "code",
   "execution_count": 424,
   "id": "516a4c06",
   "metadata": {},
   "outputs": [
    {
     "name": "stdout",
     "output_type": "stream",
     "text": [
      "              Model  Accuracy   Recall  Precision  Specificity\n",
      "                KNN  0.469697 0.151515   0.416667     0.787879\n",
      "Logistic Regression  0.681818 0.545455   0.750000     0.818182\n",
      "                SVM  0.696970 0.666667   0.709677     0.727273\n",
      "      Random Forest  0.696970 0.666667   0.709677     0.727273\n"
     ]
    }
   ],
   "source": [
    "confusion_mtrices = [knn_data3[0],lr_data3[0],svc_data3[0],rf_data3[0]]\n",
    "model_names = [\"KNN\", \"Logistic Regression\", \"SVM\", \"Random Forest\"]\n",
    "\n",
    "# Calculate the evaluation metrics from confusion matrices threshold  0.5\n",
    "metrics3 = []\n",
    "\n",
    "for model_name, conf_mt in zip(model_names, confusion_mtrices):\n",
    "    \n",
    "    # Extract the true negative, false positive, false negative and true positive\n",
    "    tn, fp, fn, tp = conf_mt.ravel()\n",
    "    \n",
    "   # Calculate metrics\n",
    "    accuracy = (tp + tn) / (tp + tn + fp + fn)\n",
    "    recall = tp / (tp + fn)\n",
    "    precision = tp / (tp + fp)\n",
    "    specificity = tn / (tn + fp)\n",
    "    \n",
    "    # Append to metrics\n",
    "    metrics3.append({\n",
    "        'Model': model_name,\n",
    "        'Accuracy': accuracy,\n",
    "        'Recall': recall,\n",
    "        'Precision': precision,\n",
    "        'Specificity': specificity\n",
    "        \n",
    "    })\n",
    "\n",
    " \n",
    "# Convert to a pandas DataFrame\n",
    "metrics_df3 = pd.DataFrame(metrics3)\n",
    "# Print the DataFrame\n",
    "print(metrics_df3.to_string(index=False))\n"
   ]
  },
  {
   "cell_type": "code",
   "execution_count": 425,
   "id": "7e082584",
   "metadata": {},
   "outputs": [
    {
     "data": {
      "image/png": "[encoded data removed]",
      "text/plain": [
       "<Figure size 500x300 with 1 Axes>"
      ]
     },
     "metadata": {},
     "output_type": "display_data"
    }
   ],
   "source": [
    "\n",
    "# Set the index to 'Model' \n",
    "metrics_df3.set_index('Model', inplace=True)\n",
    "\n",
    "# Transpose the DataFrame for plotting\n",
    "metrics_df3 = metrics_df3.T\n",
    "\n",
    "# Create the grouped bar chart\n",
    "ax = metrics_df3.plot(kind='bar', figsize=(5, 3))\n",
    "\n",
    "# \n",
    "ax.set_ylabel('Score')\n",
    "#ax.set_title('Model Performance Metrics')\n",
    "plt.xticks(rotation=0)\n",
    "\n",
    "# Add legend\n",
    "plt.legend(title='Model', fontsize='small', loc='upper right')\n",
    "\n",
    "# Display the plot\n",
    "plt.show()\n",
    "\n"
   ]
  },
  {
   "cell_type": "code",
   "execution_count": 426,
   "id": "74c71963",
   "metadata": {},
   "outputs": [],
   "source": [
    "#plot_metrics(results_df3)\n"
   ]
  },
  {
   "cell_type": "markdown",
   "id": "407b296e-78f6-4e62-a048-e4410ca3d83d",
   "metadata": {},
   "source": [
    "### 4.11 McNemar's Tests between KNN with other models"
   ]
  },
  {
   "cell_type": "code",
   "execution_count": 427,
   "id": "f0db7c56",
   "metadata": {},
   "outputs": [
    {
     "name": "stdout",
     "output_type": "stream",
     "text": [
      "                 Model 1                Model 2   p-value\n",
      "0    K-nearest neighbors    Logistic Regression  0.001154\n",
      "1    K-nearest neighbors  Supprt Vector Machine  0.003509\n",
      "2    K-nearest neighbors          Random Forest  0.003509\n",
      "3    Logistic Regression  Supprt Vector Machine  1.000000\n",
      "4    Logistic Regression          Random Forest  1.000000\n",
      "5  Supprt Vector Machine          Random Forest  0.000000\n"
     ]
    }
   ],
   "source": [
    "\n",
    "def mcnemar_test(model, true_labels,pediction_labels):\n",
    "    \n",
    "    # empty DataFrame to store the results\n",
    "    results_df = pd.DataFrame(columns=['Model 1', 'Model 2', 'p-value'])\n",
    "    \n",
    "    for i in range(4):\n",
    "        for j in range(i+1, 4):\n",
    "            model1_name = model_names[i]\n",
    "            model2_name = model_names[j]\n",
    "            model1_preds = np.array(pediction_labels[i])\n",
    "            model2_preds = np.array(pediction_labels[j])\n",
    "            \n",
    "            # Create the contingency table\n",
    "            mcnemar_table_data = mcnemar_table(y_target=np.array(true_labels), \n",
    "                                               y_model1=model1_preds, \n",
    "                                               y_model2=model2_preds)\n",
    "\n",
    "            # Calculate chi-squared & p-value\n",
    "            chi2, p = mcnemar(ary=mcnemar_table_data, corrected=True)\n",
    "\n",
    "            # Append p-value to the DataFrame\n",
    "            results_df = results_df.append({'Model 1': model1_name,\n",
    "                                            'Model 2': model2_name,\n",
    "                                            'p-value': p}, ignore_index=True)\n",
    "\n",
    "    return results_df\n",
    "\n",
    "model_names = [\"K-nearest neighbors\", \"Logistic Regression\",\"Supprt Vector Machine\", \"Random Forest\"]\n",
    "pediction_labels = [knn_data3[5], lr_data3[5], svc_data3[5], rf_data3[5]]\n",
    "\n",
    "results3 = mcnemar_test(model_names,knn_data3[4], pediction_labels)\n",
    "\n",
    " #Display the results as a table\n",
    "print(results3)\n"
   ]
  },
  {
   "cell_type": "markdown",
   "id": "d6600601-5659-4a20-a9a2-b9c146dd0ab8",
   "metadata": {},
   "source": [
    "###  4.12 Train test accouracy"
   ]
  },
  {
   "cell_type": "code",
   "execution_count": 428,
   "id": "82b5f132-0cdf-4cf2-9987-80cc1cae98db",
   "metadata": {},
   "outputs": [
    {
     "name": "stdout",
     "output_type": "stream",
     "text": [
      "             models  Avg_train_acc  Avg_test_acc\n",
      "                KNN       0.682061      0.469697\n",
      "Logistic Regression       0.811052      0.681818\n",
      "                SVM       0.943462      0.712121\n",
      "      Random Forest       0.998561      0.696970\n"
     ]
    }
   ],
   "source": [
    "dict = {\"models\" : ['KNN', 'Logistic Regression', 'SVM', 'Random Forest'],\n",
    "        \"Avg_train_acc\": [np.mean(knn_data3[6]),np.mean(lr_data3[6]), np.mean(svc_data3[6]), np.mean(rf_data3[6])],        \n",
    "        \"Avg_test_acc\" : [np.mean(knn_data3[7]), np.mean(lr_data3[7]), np.mean(svc_data3[7]), np.mean(rf_data3[7])]}\n",
    " \n",
    "df = pd.DataFrame(dict)\n",
    " \n",
    "print(df.to_string(index=False))\n"
   ]
  },
  {
   "cell_type": "markdown",
   "id": "bb2f1881",
   "metadata": {},
   "source": [
    "## "
   ]
  },
  {
   "cell_type": "code",
   "execution_count": null,
   "id": "3ceb7c72",
   "metadata": {},
   "outputs": [],
   "source": []
  }
 ],
 "metadata": {
  "kernelspec": {
   "display_name": "Python 3 (ipykernel)",
   "language": "python",
   "name": "python3"
  },
  "language_info": {
   "codemirror_mode": {
    "name": "ipython",
    "version": 3
   },
   "file_extension": ".py",
   "mimetype": "text/x-python",
   "name": "python",
   "nbconvert_exporter": "python",
   "pygments_lexer": "ipython3",
   "version": "3.11.4"
  }
 },
 "nbformat": 4,
 "nbformat_minor": 5
}
